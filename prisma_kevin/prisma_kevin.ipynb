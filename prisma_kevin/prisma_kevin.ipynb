{
 "cells": [
  {
   "cell_type": "code",
   "execution_count": 63,
   "metadata": {},
   "outputs": [
    {
     "name": "stdout",
     "output_type": "stream",
     "text": [
      "Note: you may need to restart the kernel to use updated packages.\n"
     ]
    }
   ],
   "source": [
    "%pip install -qU langchain langchain_openai langgraph "
   ]
  },
  {
   "cell_type": "code",
   "execution_count": 3,
   "metadata": {},
   "outputs": [],
   "source": [
    "from langchain_openai import AzureChatOpenAI\n",
    "from langchain_core.prompts import ChatPromptTemplate, MessagesPlaceholder\n",
    "from langchain.schema.output_parser import StrOutputParser\n",
    "from langchain.agents import AgentExecutor, create_openai_functions_agent\n",
    "from langchain.output_parsers.openai_functions import JsonOutputFunctionsParser\n",
    "from langchain_core.messages import BaseMessage, HumanMessage\n",
    "from langchain_core.tools import tool\n",
    "from langgraph.graph import END, StateGraph\n",
    "\n",
    "from typing import Annotated, List, TypedDict\n",
    "import os\n",
    "from pathlib import Path\n",
    "from operator import itemgetter, add\n",
    "import functools"
   ]
  },
  {
   "cell_type": "code",
   "execution_count": 4,
   "metadata": {},
   "outputs": [],
   "source": [
    "WORKING_DIRECTORY = Path(f\"{os.getcwd()}\\\\generated\")"
   ]
  },
  {
   "cell_type": "code",
   "execution_count": 5,
   "metadata": {},
   "outputs": [],
   "source": [
    "api_key = \"a1ab70e0f13c4db1b2236ae9ea986511\"\n",
    "api_version = \"2024-05-01-preview\""
   ]
  },
  {
   "cell_type": "code",
   "execution_count": 38,
   "metadata": {},
   "outputs": [
    {
     "data": {
      "text/plain": [
       "AzureChatOpenAI(client=<openai.resources.chat.completions.Completions object at 0x000002CDA66BE600>, async_client=<openai.resources.chat.completions.AsyncCompletions object at 0x000002CDA66C0200>, model_name='gpt-4', openai_api_key=SecretStr('**********'), openai_proxy='', azure_endpoint='https://james-ai.openai.azure.com/openai/deployments/gpt-4o/chat/completions?api-version=2024-05-01-preview', openai_api_version='2024-05-01-preview', openai_api_type='azure')"
      ]
     },
     "execution_count": 38,
     "metadata": {},
     "output_type": "execute_result"
    }
   ],
   "source": [
    "llm = AzureChatOpenAI(\n",
    "  model=\"gpt-4\",\n",
    "  api_key=api_key,\n",
    "  api_version=api_version,\n",
    "  azure_endpoint = f\"https://james-ai.openai.azure.com/openai/deployments/gpt-4o/chat/completions?api-version={api_version}\"\n",
    ")\n",
    "\n",
    "llm"
   ]
  },
  {
   "cell_type": "code",
   "execution_count": 39,
   "metadata": {},
   "outputs": [],
   "source": [
    "GENERATE_PRISMA_SCHEMA_RAG_PROMPT = \"\"\"\n",
    "CONTEXT:\n",
    "{context}\n",
    "\n",
    "QUESTION:\n",
    "{question}\n",
    "\n",
    "You are a helpful assistant knowledgeable in Prisma.\n",
    "Use the available prisma schema context as the examples to generate a prisma schema based on the model names given in the question.\n",
    "Make sure that the datasource db and generator client are added on the generated schema.\n",
    "Make sure that the fields createdAt, updatedAt, and deletedAt are added to the models.\n",
    "Make sure that the schema is valid and correct based on the given question.\n",
    "If you can't answer the question, say you don't know.\n",
    "If the question is unclear or not related to Prisma, say you don't know.\n",
    "\"\"\"\n",
    "\n",
    "generate_prisma_schema_rag_prompt = ChatPromptTemplate.from_template(GENERATE_PRISMA_SCHEMA_RAG_PROMPT)"
   ]
  },
  {
   "cell_type": "code",
   "execution_count": 40,
   "metadata": {},
   "outputs": [],
   "source": [
    "GENERATE_API_ROUTE_RAG_PROMPT = \"\"\"\n",
    "CONTEXT:\n",
    "{context}\n",
    "\n",
    "QUESTION:\n",
    "{question}\n",
    "\n",
    "You are a helpful assistant knowledgeable in TypeScript and NextJS.\n",
    "Use the available Api Route context as the examples to generate an api route based on the Api Route name given in the question.\n",
    "Make sure that generated Api Route does not have any typescript errors.\n",
    "If you can't answer the question, say you don't know.\n",
    "If the question is unclear or not related to generating Api Routes, say you don't know.\n",
    "\"\"\"\n",
    "\n",
    "generate_api_route_rag_prompt = ChatPromptTemplate.from_template(GENERATE_API_ROUTE_RAG_PROMPT)"
   ]
  },
  {
   "cell_type": "code",
   "execution_count": 41,
   "metadata": {},
   "outputs": [
    {
     "data": {
      "text/plain": [
       "{'data': 'Example for MANY-TO-MANY:\\n// Define the User model  \\nmodel User {\\n  id        String         @id @default(cuid()) // Unique identifier for each user  \\n  email     String         @unique // Unique email for each user  \\n  name      String? // Optional name field  \\n  projects  UserProjects[] // Relation to the UserProjects model for many-to-many relationship  \\n  createdAt DateTime       @default(now()) // Timestamp of user creation  \\n  updatedAt DateTime       @updatedAt // Timestamp of the last update  \\n}\\n\\n// Define the Project model  \\nmodel Project {\\n  id        String         @id @default(cuid()) // Unique identifier for each project  \\n  name      String // Name of the project  \\n  users     UserProjects[] // Relation to the UserProjects model for many-to-many relationship  \\n  createdAt DateTime       @default(now()) // Timestamp of project creation  \\n  updatedAt DateTime       @updatedAt // Timestamp of the last update  \\n}\\n\\n// Define the UserProjects model, which acts as the join table  \\nmodel UserProjects {\\n  userId    String // Foreign key referencing the User model  \\n  projectId String // Foreign key referencing the Project model  \\n  user      User     @relation(fields: [userId], references: [id]) // Relation to the User model  \\n  project   Project  @relation(fields: [projectId], references: [id]) // Relation to the Project model  \\n  createdAt DateTime @default(now()) // Timestamp of the relationship creation  \\n  updatedAt DateTime @updatedAt // Timestamp of the last update  \\n\\n  // Composite primary key to ensure uniqueness of each user-project pair  \\n  @@id([userId, projectId])\\n  // Index on projectId to optimize queries involving the project field  \\n  @@index([projectId])\\n}\\n\\nExample for ONE-TO-MANY:\\n// Define the User model  \\nmodel User {\\n  id        String   @id @default(cuid()) // Unique identifier for each user  \\n  email     String   @unique // Unique email for each user  \\n  name      String? // Optional name field  \\n  posts     Post[] // One-to-many relation to the Post model  \\n  createdAt DateTime @default(now()) // Timestamp of user creation  \\n  updatedAt DateTime @updatedAt // Timestamp of the last update  \\n}\\n\\n// Define the Post model  \\nmodel Post {\\n  id        String   @id @default(cuid()) // Unique identifier for each post  \\n  title     String // Title of the post  \\n  content   String? // Optional content of the post  \\n  userId    String // Foreign key referencing the User model  \\n  user      User     @relation(fields: [userId], references: [id]) // Relation to the User model  \\n  createdAt DateTime @default(now()) // Timestamp of post creation  \\n  updatedAt DateTime @updatedAt // Timestamp of the last update  \\n\\n  // Index on userId to optimize queries involving the user field  \\n  @@index([userId])\\n}\\n\\nExample for ONE-TO-ONE:\\n// Define the User model  \\nmodel User {\\n  id        String   @id @default(cuid()) // Unique identifier for each user  \\n  email     String   @unique // Unique email for each user  \\n  name      String? // Optional name field  \\n  profile   Profile? // One-to-one relation to the Profile model  \\n  createdAt DateTime @default(now()) // Timestamp of user creation  \\n  updatedAt DateTime @updatedAt // Timestamp of the last update  \\n}\\n\\n// Define the Profile model  \\nmodel Profile {\\n  id        String   @id @default(cuid()) // Unique identifier for each profile  \\n  bio       String? // Optional bio field  \\n  userId    String // Foreign key referencing the User model  \\n  user      User     @relation(fields: [userId], references: [id]) // Relation to the User model  \\n  createdAt DateTime @default(now()) // Timestamp of profile creation  \\n  updatedAt DateTime @updatedAt // Timestamp of the last update  \\n\\n  // Ensure userId is unique, enforcing the one-to-one relationship  \\n  @@unique([userId])\\n}\\n\\n'}"
      ]
     },
     "execution_count": 41,
     "metadata": {},
     "output_type": "execute_result"
    }
   ],
   "source": [
    "prisma_schemas_directory_path = Path('templates/prisma-schemas')\n",
    "\n",
    "prisma_schemas = {'data': ''}\n",
    "\n",
    "for file_path in prisma_schemas_directory_path.glob('*.prisma'):\n",
    "    content = file_path.read_text()\n",
    "    prisma_schemas['data'] += (f\"Example for {file_path.stem.upper()}:\\n{content}\\n\")\n",
    "\n",
    "prisma_schemas"
   ]
  },
  {
   "cell_type": "code",
   "execution_count": 42,
   "metadata": {},
   "outputs": [
    {
     "data": {
      "text/plain": [
       "{'data': \"Example for DOCUMENT-ROUTE:\\nimport {\\n  DocumentOptionalDefaultsSchema,\\n  DocumentPartialSchema,\\n} from '@db/prisma/zod'\\nimport { NextRequest, NextResponse } from 'next/server'\\n\\nimport { prisma } from '@db/prisma'\\n\\nexport async function POST(request: NextRequest) {\\n  const res = await request.json()\\n\\n  try {\\n    const validatedData = DocumentOptionalDefaultsSchema.parse(res)\\n    const createdDocument = await prisma.document.create({\\n      data: validatedData,\\n    })\\n    return NextResponse.json({ data: createdDocument }, { status: 200 })\\n  } catch (error: any) {\\n    return NextResponse.json({ error: error.message }, { status: 500 })\\n  }\\n}\\n\\nexport async function PATCH(request: NextRequest) {\\n  const res = await request.json()\\n\\n  try {\\n    const id = request.nextUrl.searchParams.get('id')\\n    if (!id)\\n      return NextResponse.json({ error: 'No id provided' }, { status: 400 })\\n\\n    const validatedData = DocumentPartialSchema.parse(res)\\n    if (Object.keys(validatedData).length === 0)\\n      return NextResponse.json(\\n        { error: 'No valid data provided' },\\n        { status: 400 },\\n      )\\n\\n    const updatedDocument = await prisma.document.update({\\n      where: { id },\\n      data: validatedData,\\n    })\\n    return NextResponse.json({ data: updatedDocument }, { status: 200 })\\n  } catch (error: any) {\\n    return NextResponse.json({ error: error.message }, { status: 500 })\\n  }\\n}\\n\\nexport async function DELETE(request: NextRequest) {\\n  const id = request.nextUrl.searchParams.get('id')\\n  if (!id)\\n    return NextResponse.json({ error: 'No id provided' }, { status: 400 })\\n\\n  try {\\n    const deletedDocument = await prisma.document.delete({ where: { id } })\\n    return NextResponse.json({ data: deletedDocument }, { status: 200 })\\n  } catch (error: any) {\\n    return NextResponse.json({ error: error.message }, { status: 500 })\\n  }\\n}\\n\\nExample for NATURE-ROUTE:\\nimport {\\n  NatureOptionalDefaultsSchema,\\n  NaturePartialSchema,\\n} from '@db/prisma/zod'\\nimport { NextRequest, NextResponse } from 'next/server'\\n\\nimport { prisma } from '@db/prisma'\\n\\nexport async function GET(request: NextRequest) {\\n  try {\\n    const id = request.nextUrl.searchParams.get('id')\\n    if (id) {\\n      const nature = await prisma.nature.findUnique({ where: { id } })\\n      return NextResponse.json({ data: nature }, { status: 200 })\\n    }\\n\\n    const nature = await prisma.nature.findMany()\\n    return NextResponse.json({ data: nature }, { status: 200 })\\n  } catch (error: any) {\\n    return NextResponse.json({ error: error.message }, { status: 500 })\\n  }\\n}\\n\\nexport async function POST(request: NextRequest) {\\n  const res = await request.json()\\n\\n  try {\\n    const validatedData = NatureOptionalDefaultsSchema.parse(res)\\n    const createdNature = await prisma.nature.create({\\n      data: validatedData,\\n    })\\n    return NextResponse.json({ data: createdNature }, { status: 200 })\\n  } catch (error: any) {\\n    return NextResponse.json({ error: error.message }, { status: 500 })\\n  }\\n}\\n\\nexport async function PATCH(request: NextRequest) {\\n  const res = await request.json()\\n  const id = request.nextUrl.searchParams.get('id')\\n  if (!id)\\n    return NextResponse.json({ error: 'No id provided' }, { status: 400 })\\n\\n  try {\\n    const validatedData = NaturePartialSchema.parse(res)\\n    if (Object.keys(validatedData).length === 0)\\n      return NextResponse.json(\\n        { error: 'No valid data provided' },\\n        { status: 400 },\\n      )\\n\\n    const updatedNature = await prisma.nature.update({\\n      where: { id },\\n      data: validatedData,\\n    })\\n    return NextResponse.json({ data: updatedNature }, { status: 200 })\\n  } catch (error: any) {\\n    return NextResponse.json({ error: error.message }, { status: 500 })\\n  }\\n}\\n\\nexport async function DELETE(request: NextRequest) {\\n  const id = request.nextUrl.searchParams.get('id')\\n  if (!id)\\n    return NextResponse.json({ error: 'No id provided' }, { status: 400 })\\n\\n  try {\\n    const deletedNature = await prisma.nature.delete({ where: { id } })\\n    return NextResponse.json({ data: deletedNature }, { status: 200 })\\n  } catch (error: any) {\\n    return NextResponse.json({ error: error.message }, { status: 500 })\\n  }\\n}\\n\\nExample for PARTY-ROUTE:\\nimport { NextRequest, NextResponse } from 'next/server'\\nimport { PartyOptionalDefaultsSchema, PartyPartialSchema } from '@db/prisma/zod'\\n\\nimport { prisma } from '@db/prisma'\\n\\nexport async function POST(request: NextRequest) {\\n  const res = await request.json()\\n\\n  try {\\n    const validatedData = PartyOptionalDefaultsSchema.parse(res)\\n    const createdParty = await prisma.party.create({\\n      data: validatedData,\\n    })\\n\\n    return NextResponse.json({ data: createdParty }, { status: 200 })\\n  } catch (error: any) {\\n    return NextResponse.json({ error: error.message }, { status: 500 })\\n  }\\n}\\n\\nexport async function PATCH(request: NextRequest) {\\n  const res = await request.json()\\n  const id = request.nextUrl.searchParams.get('id')\\n  if (!id)\\n    return NextResponse.json({ error: 'No id provided' }, { status: 400 })\\n\\n  try {\\n    const validatedData = PartyPartialSchema.parse(res)\\n    if (Object.keys(validatedData).length === 0)\\n      return NextResponse.json(\\n        { error: 'No valid data provided' },\\n        { status: 400 },\\n      )\\n\\n    const updatedParty = await prisma.party.update({\\n      where: { id },\\n      data: validatedData,\\n    })\\n\\n    return NextResponse.json({ data: updatedParty }, { status: 200 })\\n  } catch (error: any) {\\n    return NextResponse.json({ error: error.message }, { status: 500 })\\n  }\\n}\\n\\nexport async function DELETE(request: NextRequest) {\\n  const id = request.nextUrl.searchParams.get('id')\\n  if (!id)\\n    return NextResponse.json({ error: 'No id provided' }, { status: 400 })\\n\\n  try {\\n    const deletedParty = await prisma.party.delete({ where: { id } })\\n    return NextResponse.json({ data: deletedParty }, { status: 200 })\\n  } catch (error: any) {\\n    return NextResponse.json({ error: error.message }, { status: 500 })\\n  }\\n}\\n\\n\"}"
      ]
     },
     "execution_count": 42,
     "metadata": {},
     "output_type": "execute_result"
    }
   ],
   "source": [
    "api_routes_directory_path = Path('templates/api-routes')\n",
    "\n",
    "api_routes = {'data': ''}\n",
    "\n",
    "for file_path in api_routes_directory_path.glob('*.ts'):\n",
    "    content = file_path.read_text()\n",
    "    api_routes['data'] += (f\"Example for {file_path.stem.upper()}:\\n{content}\\n\")\n",
    "\n",
    "api_routes"
   ]
  },
  {
   "cell_type": "code",
   "execution_count": 43,
   "metadata": {},
   "outputs": [],
   "source": [
    "generate_prisma_schema_chain = (\n",
    "    {\"context\": itemgetter(\"context\"), \"question\": itemgetter(\"question\")}\n",
    "    | generate_prisma_schema_rag_prompt | llm | StrOutputParser()\n",
    ")"
   ]
  },
  {
   "cell_type": "code",
   "execution_count": 41,
   "metadata": {},
   "outputs": [
    {
     "data": {
      "text/plain": [
       "\"I'm sorry, but I don't have the information necessary to answer your question about the meaning of 'context' in 'long context.' If you have any other questions or need assistance with Prisma schema, feel free to ask!\""
      ]
     },
     "execution_count": 41,
     "metadata": {},
     "output_type": "execute_result"
    }
   ],
   "source": [
    "generate_prisma_schema_chain.invoke({\"context\": prisma_schemas['data'], \"question\" : \"What does the 'context' in 'long context' refer to?\"})"
   ]
  },
  {
   "cell_type": "code",
   "execution_count": 42,
   "metadata": {},
   "outputs": [
    {
     "data": {
      "text/plain": [
       "\"Sure, I can help you create a Prisma schema based on the given models and relationships. Here's a schema where the `Case` model has a one-to-many relationship with the `Party`, `Document`, `Action`, `TimeSpent`, and `Reimbursement` models:\\n\\n```prisma\\n// Define the Case model\\nmodel Case {\\n  id            String         @id @default(cuid()) // Unique identifier for each case\\n  caseNumber    String         @unique // Unique case number\\n  title         String // Title of the case\\n  parties       Party[] // One-to-many relation to the Party model\\n  documents     Document[] // One-to-many relation to the Document model\\n  actions       Action[] // One-to-many relation to the Action model\\n  timespents    TimeSpent[] // One-to-many relation to the TimeSpent model\\n  reimbursements Reimbursement[] // One-to-many relation to the Reimbursement model\\n  createdAt     DateTime       @default(now()) // Timestamp of case creation\\n  updatedAt     DateTime       @updatedAt // Timestamp of the last update\\n}\\n\\n// Define the Party model\\nmodel Party {\\n  id        String   @id @default(cuid()) // Unique identifier for each party\\n  name      String // Name of the party\\n  caseId    String // Foreign key referencing the Case model\\n  case      Case     @relation(fields: [caseId], references: [id]) // Relation to the Case model\\n  createdAt DateTime @default(now()) // Timestamp of party creation\\n  updatedAt DateTime @updatedAt // Timestamp of the last update\\n\\n  // Index on caseId to optimize queries involving the case field\\n  @@index([caseId])\\n}\\n\\n// Define the Document model\\nmodel Document {\\n  id        String   @id @default(cuid()) // Unique identifier for each document\\n  title     String // Title of the document\\n  content   String? // Optional content of the document\\n  caseId    String // Foreign key referencing the Case model\\n  case      Case     @relation(fields: [caseId], references: [id]) // Relation to the Case model\\n  createdAt DateTime @default(now()) // Timestamp of document creation\\n  updatedAt DateTime @updatedAt // Timestamp of the last update\\n\\n  // Index on caseId to optimize queries involving the case field\\n  @@index([caseId])\\n}\\n\\n// Define the Action model\\nmodel Action {\\n  id        String   @id @default(cuid()) // Unique identifier for each action\\n  description String // Description of the action\\n  caseId    String // Foreign key referencing the Case model\\n  case      Case     @relation(fields: [caseId], references: [id]) // Relation to the Case model\\n  createdAt DateTime @default(now()) // Timestamp of action creation\\n  updatedAt DateTime @updatedAt // Timestamp of the last update\\n\\n  // Index on caseId to optimize queries involving the case field\\n  @@index([caseId])\\n}\\n\\n// Define the TimeSpent model\\nmodel TimeSpent {\\n  id        String   @id @default(cuid()) // Unique identifier for each timespent entry\\n  duration  Int // Duration of time spent in minutes\\n  caseId    String // Foreign key referencing the Case model\\n  case      Case     @relation(fields: [caseId], references: [id]) // Relation to the Case model\\n  createdAt DateTime @default(now()) // Timestamp of timespent entry creation\\n  updatedAt DateTime @updatedAt // Timestamp of the last update\\n\\n  // Index on caseId to optimize queries involving the case field\\n  @@index([caseId])\\n}\\n\\n// Define the Reimbursement model\\nmodel Reimbursement {\\n  id        String   @id @default(cuid()) // Unique identifier for each reimbursement\\n  amount    Float // Amount of the reimbursement\\n  caseId    String // Foreign key referencing the Case model\\n  case      Case     @relation(fields: [caseId], references: [id]) // Relation to the Case model\\n  createdAt DateTime @default(now()) // Timestamp of reimbursement creation\\n  updatedAt DateTime @updatedAt // Timestamp of the last update\\n\\n  // Index on caseId to optimize queries involving the case field\\n  @@index([caseId])\\n}\\n```\\n\\nIn this schema:\\n- The `Case` model has a one-to-many relationship with the `Party`, `Document`, `Action`, `TimeSpent`, and `Reimbursement` models.\\n- Each model has a foreign key referencing the `Case` model.\\n- Indices are created on the foreign keys to optimize queries.\\n\\nThis should cover the relationships as described in your question.\""
      ]
     },
     "execution_count": 42,
     "metadata": {},
     "output_type": "execute_result"
    }
   ],
   "source": [
    "generate_prisma_schema_chain.invoke({\"context\": prisma_schemas['data'], \"question\" : \"Create a prisma schema with the models case, party, document, action, timespent, and reimbursement, cases can contain many of the mentioned models thus the case model has a one-to-many relationship with them ?\"})"
   ]
  },
  {
   "cell_type": "code",
   "execution_count": 44,
   "metadata": {},
   "outputs": [],
   "source": [
    "generate_api_route_chain = (\n",
    "    {\"context\": itemgetter(\"context\"), \"question\": itemgetter(\"question\")}\n",
    "    | generate_api_route_rag_prompt | llm | StrOutputParser()\n",
    ")"
   ]
  },
  {
   "cell_type": "code",
   "execution_count": 16,
   "metadata": {},
   "outputs": [
    {
     "data": {
      "text/plain": [
       "'Sure, I can help you create an API route for the \"reimbursement\" model based on the examples you provided. Here\\'s how you can set it up:\\n\\n```typescript\\nimport {\\n  ReimbursementOptionalDefaultsSchema,\\n  ReimbursementPartialSchema,\\n} from \\'@db/prisma/zod\\'\\nimport { NextRequest, NextResponse } from \\'next/server\\'\\n\\nimport { prisma } from \\'@db/prisma\\'\\n\\nexport async function GET(request: NextRequest) {\\n  try {\\n    const id = request.nextUrl.searchParams.get(\\'id\\')\\n    if (id) {\\n      const reimbursement = await prisma.reimbursement.findUnique({ where: { id } })\\n      return NextResponse.json({ data: reimbursement }, { status: 200 })\\n    }\\n\\n    const reimbursements = await prisma.reimbursement.findMany()\\n    return NextResponse.json({ data: reimbursements }, { status: 200 })\\n  } catch (error: any) {\\n    return NextResponse.json({ error: error.message }, { status: 500 })\\n  }\\n}\\n\\nexport async function POST(request: NextRequest) {\\n  const res = await request.json()\\n\\n  try {\\n    const validatedData = ReimbursementOptionalDefaultsSchema.parse(res)\\n    const createdReimbursement = await prisma.reimbursement.create({\\n      data: validatedData,\\n    })\\n    return NextResponse.json({ data: createdReimbursement }, { status: 200 })\\n  } catch (error: any) {\\n    return NextResponse.json({ error: error.message }, { status: 500 })\\n  }\\n}\\n\\nexport async function PATCH(request: NextRequest) {\\n  const res = await request.json()\\n  const id = request.nextUrl.searchParams.get(\\'id\\')\\n  if (!id)\\n    return NextResponse.json({ error: \\'No id provided\\' }, { status: 400 })\\n\\n  try {\\n    const validatedData = ReimbursementPartialSchema.parse(res)\\n    if (Object.keys(validatedData).length === 0)\\n      return NextResponse.json(\\n        { error: \\'No valid data provided\\' },\\n        { status: 400 },\\n      )\\n\\n    const updatedReimbursement = await prisma.reimbursement.update({\\n      where: { id },\\n      data: validatedData,\\n    })\\n    return NextResponse.json({ data: updatedReimbursement }, { status: 200 })\\n  } catch (error: any) {\\n    return NextResponse.json({ error: error.message }, { status: 500 })\\n  }\\n}\\n\\nexport async function DELETE(request: NextRequest) {\\n  const id = request.nextUrl.searchParams.get(\\'id\\')\\n  if (!id)\\n    return NextResponse.json({ error: \\'No id provided\\' }, { status: 400 })\\n\\n  try {\\n    const deletedReimbursement = await prisma.reimbursement.delete({ where: { id } })\\n    return NextResponse.json({ data: deletedReimbursement }, { status: 200 })\\n  } catch (error: any) {\\n    return NextResponse.json({ error: error.message }, { status: 500 })\\n  }\\n}\\n```\\n\\nThis API route covers all the CRUD operations for the \"reimbursement\" model: GET, POST, PATCH, and DELETE. Each function handles errors gracefully and returns appropriate HTTP status codes and messages.'"
      ]
     },
     "execution_count": 16,
     "metadata": {},
     "output_type": "execute_result"
    }
   ],
   "source": [
    "generate_api_route_chain.invoke({\"context\": api_routes['data'], \"question\" : \"Create an api route for the reimbursement model?\"})"
   ]
  },
  {
   "cell_type": "code",
   "execution_count": 45,
   "metadata": {},
   "outputs": [],
   "source": [
    "def agent_node(state, agent, name):\n",
    "    result = agent.invoke(state)\n",
    "    return {\"messages\": [HumanMessage(content=result[\"output\"], name=name)]}"
   ]
  },
  {
   "cell_type": "code",
   "execution_count": 47,
   "metadata": {},
   "outputs": [],
   "source": [
    "def create_agent(\n",
    "    llm: AzureChatOpenAI,\n",
    "    tools: list,\n",
    "    system_prompt: str,\n",
    ") -> str:\n",
    "    \"\"\"Create a function-calling agent and add it to the graph.\"\"\"\n",
    "    system_prompt += \"\\nWork autonomously according to your specialty, using the tools available to you.\"\n",
    "    \" Do not ask for clarification.\"\n",
    "    \" Your other team members will collaborate with you with their own specialties.\"\n",
    "    prompt = ChatPromptTemplate.from_messages(\n",
    "        [\n",
    "            (\n",
    "                \"system\",\n",
    "                system_prompt,\n",
    "            ),\n",
    "            MessagesPlaceholder(variable_name=\"messages\"),\n",
    "            MessagesPlaceholder(variable_name=\"agent_scratchpad\"),\n",
    "        ]\n",
    "    )\n",
    "    agent = create_openai_functions_agent(llm, tools, prompt)\n",
    "    executor = AgentExecutor(agent=agent, tools=tools)\n",
    "    return executor"
   ]
  },
  {
   "cell_type": "code",
   "execution_count": 48,
   "metadata": {},
   "outputs": [],
   "source": [
    "def create_team_supervisor(llm: AzureChatOpenAI, system_prompt, members) -> str:\n",
    "    \"\"\"An LLM-based router.\"\"\"\n",
    "    options = [\"FINISH\"] + members\n",
    "    function_def = {\n",
    "        \"name\": \"route\",\n",
    "        \"description\": \"Select the next role.\",\n",
    "        \"parameters\": {\n",
    "            \"title\": \"routeSchema\",\n",
    "            \"type\": \"object\",\n",
    "            \"properties\": {\n",
    "                \"next\": {\n",
    "                    \"title\": \"Next\",\n",
    "                    \"anyOf\": [\n",
    "                        {\"enum\": options},\n",
    "                    ],\n",
    "                },\n",
    "            },\n",
    "            \"required\": [\"next\"],\n",
    "        },\n",
    "    }\n",
    "    prompt = ChatPromptTemplate.from_messages(\n",
    "        [\n",
    "            (\"system\", system_prompt),\n",
    "            MessagesPlaceholder(variable_name=\"messages\"),\n",
    "            (\n",
    "                \"system\",\n",
    "                \"Given the conversation above, who should act next?\"\n",
    "                \"Or should we FINISH? Select one of: {options}\",\n",
    "            ),\n",
    "        ]\n",
    "    ).partial(options=str(options), team_members=\", \".join(members))\n",
    "    return (\n",
    "        prompt\n",
    "        | llm.bind_functions(functions=[function_def], function_call=\"route\")\n",
    "        | JsonOutputFunctionsParser()\n",
    "    )"
   ]
  },
  {
   "cell_type": "code",
   "execution_count": 49,
   "metadata": {},
   "outputs": [],
   "source": [
    "@tool\n",
    "def generate_prisma_schema(\n",
    "    query: Annotated[str, \"query to ask the generate prisma schema tool\"]\n",
    "    ):\n",
    "  \"\"\"Use Retrieval Augmented Generation to generate a Prisma Schema\"\"\"\n",
    "  return generate_prisma_schema_chain.invoke({\"context\": prisma_schemas['data'], \"question\" : query})"
   ]
  },
  {
   "cell_type": "code",
   "execution_count": 50,
   "metadata": {},
   "outputs": [],
   "source": [
    "@tool\n",
    "def generate_api_route(\n",
    "    query: Annotated[str, \"query to ask the generate api route tool\"]\n",
    "    ):\n",
    "  \"\"\"Use Retrieval Augmented Generation to generate an Api Route\"\"\"\n",
    "  return generate_api_route_chain.invoke({\"context\": api_routes['data'], \"question\" : query})"
   ]
  },
  {
   "cell_type": "code",
   "execution_count": 51,
   "metadata": {},
   "outputs": [],
   "source": [
    "@tool\n",
    "def write_file(\n",
    "    content: Annotated[str, \"Text content to be written into the document.\"],\n",
    "    file_name: Annotated[str, \"File path to save the document.\"],\n",
    ") -> Annotated[str, \"Path of the saved document file.\"]:\n",
    "    \"\"\"Create and save a text document.\"\"\"\n",
    "    with (WORKING_DIRECTORY / file_name).open(\"w\") as file:\n",
    "        file.write(content)\n",
    "    return f\"Document saved to {file_name}\""
   ]
  },
  {
   "cell_type": "code",
   "execution_count": 52,
   "metadata": {},
   "outputs": [],
   "source": [
    "class GenerationState(TypedDict):\n",
    "    messages: Annotated[List[BaseMessage], add]\n",
    "    team_members: str\n",
    "    next: str\n",
    "    current_files: str"
   ]
  },
  {
   "cell_type": "code",
   "execution_count": 53,
   "metadata": {},
   "outputs": [],
   "source": [
    "def prelude(state):\n",
    "    written_files = []\n",
    "    if not WORKING_DIRECTORY.exists():\n",
    "        WORKING_DIRECTORY.mkdir()\n",
    "    try:\n",
    "        written_files = [\n",
    "            f.relative_to(WORKING_DIRECTORY) for f in WORKING_DIRECTORY.rglob(\"*\")\n",
    "        ]\n",
    "    except:\n",
    "        pass\n",
    "    if not written_files:\n",
    "        return {**state, \"current_files\": \"No files written.\"}\n",
    "    return {\n",
    "        **state,\n",
    "        \"current_files\": \"\\nBelow are files your team has written to the directory:\\n\"\n",
    "        + \"\\n\".join([f\" - {f}\" for f in written_files]),\n",
    "    }"
   ]
  },
  {
   "cell_type": "code",
   "execution_count": 54,
   "metadata": {},
   "outputs": [],
   "source": [
    "generate_prisma_schema_agent = create_agent(\n",
    "    llm,\n",
    "    [generate_prisma_schema],\n",
    "    \"You are an expert in generating Prisma Schemas.\\n\",\n",
    ")\n",
    "prisma_schema_generating_node = functools.partial(agent_node, agent=generate_prisma_schema_agent, name=\"PrismaSchemaGenerator\")"
   ]
  },
  {
   "cell_type": "code",
   "execution_count": 55,
   "metadata": {},
   "outputs": [],
   "source": [
    "generate_api_route_agent = create_agent(\n",
    "    llm,\n",
    "    [generate_api_route],\n",
    "    \"You are an expert in generating Api Routes using TypeScript and NextJS.\\n\",\n",
    ")\n",
    "api_route_generating_node = functools.partial(agent_node, agent=generate_api_route_agent, name=\"ApiRouteGenerator\")"
   ]
  },
  {
   "cell_type": "code",
   "execution_count": 56,
   "metadata": {},
   "outputs": [],
   "source": [
    "file_writer_agent = create_agent(\n",
    "    llm,\n",
    "    [write_file],\n",
    "    \"You are an expert in writing data to a file.\\n\"\n",
    "    \"Below are files currently in your directory:\\n{current_files}\"\n",
    "    \"Always create a new file for each output unless the user said otherwise.\",\n",
    ")\n",
    "context_aware_doc_writer_agent = prelude | file_writer_agent\n",
    "file_writing_node = functools.partial(\n",
    "    agent_node, agent=context_aware_doc_writer_agent, name=\"FileWriter\"\n",
    ")"
   ]
  },
  {
   "cell_type": "code",
   "execution_count": 86,
   "metadata": {},
   "outputs": [],
   "source": [
    "schema_generation_supervisor = create_team_supervisor(\n",
    "    llm,\n",
    "    \"You are a supervisor tasked with managing a conversation between the\"\n",
    "    \" following workers:  {team_members}.\"\n",
    "    \"Given the following user request, respond with the worker to act next. Each worker will perform a task and respond with their results and status.\"\n",
    "    \"Make sure to call the correct worker for generating Prisma Schemas, generating Api Routes, and writing the results to a file.\"\n",
    "    \"When finished, respond with FINISH.\",\n",
    "    [\"PrismaSchemaGenerator\", \"ApiRouteGenerator\", \"FileWriter\"],\n",
    ")"
   ]
  },
  {
   "cell_type": "code",
   "execution_count": 87,
   "metadata": {},
   "outputs": [],
   "source": [
    "generation_graph = StateGraph(GenerationState)\n",
    "generation_graph.add_node(\"PrismaSchemaGenerator\", prisma_schema_generating_node)\n",
    "generation_graph.add_node(\"ApiRouteGenerator\", api_route_generating_node)\n",
    "generation_graph.add_node(\"FileWriter\", file_writing_node)\n",
    "generation_graph.add_node(\"supervisor\", schema_generation_supervisor)\n",
    "\n",
    "generation_graph.add_edge(\"PrismaSchemaGenerator\", \"FileWriter\")\n",
    "generation_graph.add_edge(\"ApiRouteGenerator\", \"FileWriter\")\n",
    "generation_graph.add_edge(\"FileWriter\", END)\n",
    "\n",
    "generation_graph.add_conditional_edges(\n",
    "    \"supervisor\",\n",
    "    lambda x: x[\"next\"],\n",
    "    {\n",
    "        \"PrismaSchemaGenerator\": \"PrismaSchemaGenerator\",\n",
    "        \"ApiRouteGenerator\": \"ApiRouteGenerator\",\n",
    "        \"FileWriter\": \"FileWriter\",\n",
    "        \"FINISH\": END,\n",
    "    },\n",
    ")\n",
    "\n",
    "generation_graph.set_entry_point(\"supervisor\")\n",
    "graph = generation_graph.compile()"
   ]
  },
  {
   "cell_type": "code",
   "execution_count": 88,
   "metadata": {},
   "outputs": [
    {
     "data": {
      "image/jpeg": "[encoded data removed]",
      "text/plain": [
       "<IPython.core.display.Image object>"
      ]
     },
     "metadata": {},
     "output_type": "display_data"
    }
   ],
   "source": [
    "from IPython.display import Image, display\n",
    "\n",
    "try:\n",
    "    display(Image(graph.get_graph(xray=True).draw_mermaid_png()))\n",
    "except:\n",
    "    pass"
   ]
  },
  {
   "cell_type": "code",
   "execution_count": 89,
   "metadata": {},
   "outputs": [],
   "source": [
    "def enter_chain(message: str, members: List[str]):\n",
    "    results = {\n",
    "        \"messages\": [HumanMessage(content=message)],\n",
    "        \"team_members\": \", \".join(members),\n",
    "    }\n",
    "    return results\n",
    "\n",
    "generation_chain = (\n",
    "    functools.partial(enter_chain, members=generation_graph.nodes)\n",
    "    | generation_graph.compile()\n",
    ")"
   ]
  },
  {
   "cell_type": "code",
   "execution_count": 35,
   "metadata": {},
   "outputs": [
    {
     "name": "stdout",
     "output_type": "stream",
     "text": [
      "{'supervisor': {'next': 'PrismaSchemaGenerator'}}\n",
      "---\n",
      "{'PrismaSchemaGenerator': {'messages': [HumanMessage(content='Here is the generated Prisma schema with the models `Case`, `Party`, `Document`, `Action`, `Timespent`, and `Reimbursement`, where the `Case` model has a one-to-many relationship with each of the other models:\\n\\n```prisma\\n// Define the datasource and generator\\ndatasource db {\\n  provider = \"postgresql\"\\n  url      = env(\"DATABASE_URL\")\\n}\\n\\ngenerator client {\\n  provider = \"prisma-client-js\"\\n}\\n\\n// Define the Case model\\nmodel Case {\\n  id            String          @id @default(cuid()) // Unique identifier for each case\\n  title         String          // Title of the case\\n  description   String?         // Optional description of the case\\n  parties       Party[]         // One-to-many relation to the Party model\\n  documents     Document[]      // One-to-many relation to the Document model\\n  actions       Action[]        // One-to-many relation to the Action model\\n  timespents    Timespent[]     // One-to-many relation to the Timespent model\\n  reimbursements Reimbursement[] // One-to-many relation to the Reimbursement model\\n  createdAt     DateTime        @default(now()) // Timestamp of case creation\\n  updatedAt     DateTime        @updatedAt // Timestamp of the last update\\n  deletedAt     DateTime?       // Optional timestamp for soft deletion\\n}\\n\\n// Define the Party model\\nmodel Party {\\n  id        String   @id @default(cuid()) // Unique identifier for each party\\n  name      String   // Name of the party\\n  role      String   // Role of the party in the case\\n  caseId    String   // Foreign key referencing the Case model\\n  case      Case     @relation(fields: [caseId], references: [id]) // Relation to the Case model\\n  createdAt DateTime @default(now()) // Timestamp of party creation\\n  updatedAt DateTime @updatedAt // Timestamp of the last update\\n  deletedAt DateTime? // Optional timestamp for soft deletion\\n\\n  // Index on caseId to optimize queries involving the case field\\n  @@index([caseId])\\n}\\n\\n// Define the Document model\\nmodel Document {\\n  id        String   @id @default(cuid()) // Unique identifier for each document\\n  title     String   // Title of the document\\n  content   String?  // Optional content of the document\\n  caseId    String   // Foreign key referencing the Case model\\n  case      Case     @relation(fields: [caseId], references: [id]) // Relation to the Case model\\n  createdAt DateTime @default(now()) // Timestamp of document creation\\n  updatedAt DateTime @updatedAt // Timestamp of the last update\\n  deletedAt DateTime? // Optional timestamp for soft deletion\\n\\n  // Index on caseId to optimize queries involving the case field\\n  @@index([caseId])\\n}\\n\\n// Define the Action model\\nmodel Action {\\n  id        String   @id @default(cuid()) // Unique identifier for each action\\n  type      String   // Type of action\\n  description String? // Optional description of the action\\n  caseId    String   // Foreign key referencing the Case model\\n  case      Case     @relation(fields: [caseId], references: [id]) // Relation to the Case model\\n  createdAt DateTime @default(now()) // Timestamp of action creation\\n  updatedAt DateTime @updatedAt // Timestamp of the last update\\n  deletedAt DateTime? // Optional timestamp for soft deletion\\n\\n  // Index on caseId to optimize queries involving the case field\\n  @@index([caseId])\\n}\\n\\n// Define the Timespent model\\nmodel Timespent {\\n  id        String   @id @default(cuid()) // Unique identifier for each timespent record\\n  hours     Int      // Number of hours spent\\n  description String? // Optional description of the time spent\\n  caseId    String   // Foreign key referencing the Case model\\n  case      Case     @relation(fields: [caseId], references: [id]) // Relation to the Case model\\n  createdAt DateTime @default(now()) // Timestamp of timespent record creation\\n  updatedAt DateTime @updatedAt // Timestamp of the last update\\n  deletedAt DateTime? // Optional timestamp for soft deletion\\n\\n  // Index on caseId to optimize queries involving the case field\\n  @@index([caseId])\\n}\\n\\n// Define the Reimbursement model\\nmodel Reimbursement {\\n  id        String   @id @default(cuid()) // Unique identifier for each reimbursement record\\n  amount    Float    // Amount of reimbursement\\n  description String? // Optional description of the reimbursement\\n  caseId    String   // Foreign key referencing the Case model\\n  case      Case     @relation(fields: [caseId], references: [id]) // Relation to the Case model\\n  createdAt DateTime @default(now()) // Timestamp of reimbursement record creation\\n  updatedAt DateTime @updatedAt // Timestamp of the last update\\n  deletedAt DateTime? // Optional timestamp for soft deletion\\n\\n  // Index on caseId to optimize queries involving the case field\\n  @@index([caseId])\\n}\\n```\\n\\nThis schema includes:\\n- A `Case` model with a one-to-many relationship with `Party`, `Document`, `Action`, `Timespent`, and `Reimbursement` models.\\n- Each related model (`Party`, `Document`, `Action`, `Timespent`, `Reimbursement`) contains a foreign key (`caseId`) that references the `Case` model.\\n- Timestamps for creation (`createdAt`), last update (`updatedAt`), and optional soft deletion (`deletedAt`) for each model.\\n- Indexes on the foreign key fields to optimize queries. \\n\\nFeel free to adjust the models and fields as needed for your specific use case.', name='PrismaSchemaGenerator')]}}\n",
      "---\n",
      "{'FileWriter': {'messages': [HumanMessage(content='The Prisma schema has been successfully created and saved to `schema.prisma`. This file includes the models `Case`, `Party`, `Document`, `Action`, `Timespent`, and `Reimbursement`, with the appropriate relationships and fields.\\n\\nIf you need any further modifications or assistance with using this schema, feel free to ask!', name='FileWriter')]}}\n",
      "---\n"
     ]
    }
   ],
   "source": [
    "for s in generation_chain.stream(\n",
    "    \"Create a prisma schema with the models case, party, document, action, timespent, and reimbursement, cases can contain many of the mentioned models thus the case model has a one-to-many relationship with them.\",\n",
    "    {\"recursion_limit\": 150},\n",
    "):\n",
    "    if \"__end__\" not in s:\n",
    "        print(s)\n",
    "        print(\"---\")"
   ]
  },
  {
   "cell_type": "code",
   "execution_count": 34,
   "metadata": {},
   "outputs": [
    {
     "name": "stdout",
     "output_type": "stream",
     "text": [
      "{'supervisor': {'next': 'ApiRouteGenerator'}}\n",
      "---\n",
      "{'ApiRouteGenerator': {'messages': [HumanMessage(content=\"Here is a complete example of an API route for the `reimbursement` model using TypeScript and NextJS. This API route supports CRUD operations: Create, Read, Update, and Delete reimbursements.\\n\\n```typescript\\nimport {\\n  ReimbursementOptionalDefaultsSchema,\\n  ReimbursementPartialSchema,\\n} from '@db/prisma/zod'\\nimport { NextRequest, NextResponse } from 'next/server'\\n\\nimport { prisma } from '@db/prisma'\\n\\nexport async function GET(request: NextRequest) {\\n  try {\\n    const id = request.nextUrl.searchParams.get('id')\\n    if (id) {\\n      const reimbursement = await prisma.reimbursement.findUnique({ where: { id } })\\n      return NextResponse.json({ data: reimbursement }, { status: 200 })\\n    }\\n\\n    const reimbursements = await prisma.reimbursement.findMany()\\n    return NextResponse.json({ data: reimbursements }, { status: 200 })\\n  } catch (error: any) {\\n    return NextResponse.json({ error: error.message }, { status: 500 })\\n  }\\n}\\n\\nexport async function POST(request: NextRequest) {\\n  const res = await request.json()\\n\\n  try {\\n    const validatedData = ReimbursementOptionalDefaultsSchema.parse(res)\\n    const createdReimbursement = await prisma.reimbursement.create({\\n      data: validatedData,\\n    })\\n    return NextResponse.json({ data: createdReimbursement }, { status: 200 })\\n  } catch (error: any) {\\n    return NextResponse.json({ error: error.message }, { status: 500 })\\n  }\\n}\\n\\nexport async function PATCH(request: NextRequest) {\\n  const res = await request.json()\\n  const id = request.nextUrl.searchParams.get('id')\\n  if (!id)\\n    return NextResponse.json({ error: 'No id provided' }, { status: 400 })\\n\\n  try {\\n    const validatedData = ReimbursementPartialSchema.parse(res)\\n    if (Object.keys(validatedData).length === 0)\\n      return NextResponse.json(\\n        { error: 'No valid data provided' },\\n        { status: 400 },\\n      )\\n\\n    const updatedReimbursement = await prisma.reimbursement.update({\\n      where: { id },\\n      data: validatedData,\\n    })\\n    return NextResponse.json({ data: updatedReimbursement }, { status: 200 })\\n  } catch (error: any) {\\n    return NextResponse.json({ error: error.message }, { status: 500 })\\n  }\\n}\\n\\nexport async function DELETE(request: NextRequest) {\\n  const id = request.nextUrl.searchParams.get('id')\\n  if (!id)\\n    return NextResponse.json({ error: 'No id provided' }, { status: 400 })\\n\\n  try {\\n    const deletedReimbursement = await prisma.reimbursement.delete({ where: { id } })\\n    return NextResponse.json({ data: deletedReimbursement }, { status: 200 })\\n  } catch (error: any) {\\n    return NextResponse.json({ error: error.message }, { status: 500 })\\n  }\\n}\\n```\\n\\n### Explanation:\\n1. **GET**: Retrieves either a single reimbursement by `id` or a list of all reimbursements.\\n2. **POST**: Creates a new reimbursement with validated data.\\n3. **PATCH**: Updates an existing reimbursement by `id` with validated data.\\n4. **DELETE**: Deletes a reimbursement by `id`.\\n\\n### Schemas:\\n- **ReimbursementOptionalDefaultsSchema**: Schema for creating a new reimbursement, including optional defaults.\\n- **ReimbursementPartialSchema**: Schema for updating an existing reimbursement, allowing partial updates.\\n\\nThese schemas should be defined in your Prisma Zod schemas module (`@db/prisma/zod`). Adjust the imports and Prisma client configurations as necessary to fit your project's structure.\", name='ApiRouteGenerator')]}}\n",
      "---\n",
      "{'FileWriter': {'messages': [HumanMessage(content='The API route for the reimbursement model has been successfully created and saved to `reimbursementApiRoute.ts`. If you need any further assistance, feel free to ask!', name='FileWriter')]}}\n",
      "---\n"
     ]
    }
   ],
   "source": [
    "for s in generation_chain.stream(\n",
    "    \"Create an Api Route for the reimbursement model.\",\n",
    "    {\"recursion_limit\": 150},\n",
    "):\n",
    "    if \"__end__\" not in s:\n",
    "        print(s)\n",
    "        print(\"---\")"
   ]
  },
  {
   "cell_type": "code",
   "execution_count": 91,
   "metadata": {},
   "outputs": [
    {
     "name": "stdout",
     "output_type": "stream",
     "text": [
      "{'supervisor': {'next': 'PrismaSchemaGenerator'}}\n",
      "---\n",
      "{'PrismaSchemaGenerator': {'messages': [HumanMessage(content='Here is the Prisma schema you requested:\\n\\n```prisma\\n// Define the datasource and generator\\ndatasource db {\\n  provider = \"postgresql\"\\n  url      = env(\"DATABASE_URL\")\\n}\\n\\ngenerator client {\\n  provider = \"prisma-client-js\"\\n}\\n\\n// Define the Case model\\nmodel Case {\\n  id            String         @id @default(cuid()) // Unique identifier for each case\\n  title         String // Title of the case\\n  description   String? // Optional description of the case\\n  parties       Party[] // One-to-many relation to the Party model\\n  documents     Document[] // One-to-many relation to the Document model\\n  actions       Action[] // One-to-many relation to the Action model\\n  timeSpent     TimeSpent[] // One-to-many relation to the TimeSpent model\\n  reimbursements Reimbursement[] // One-to-many relation to the Reimbursement model\\n  createdAt     DateTime       @default(now()) // Timestamp of case creation\\n  updatedAt     DateTime       @updatedAt // Timestamp of the last update\\n  deletedAt     DateTime? // Optional timestamp of deletion\\n}\\n\\n// Define the Party model\\nmodel Party {\\n  id        String   @id @default(cuid()) // Unique identifier for each party\\n  name      String // Name of the party\\n  caseId    String // Foreign key referencing the Case model\\n  case      Case     @relation(fields: [caseId], references: [id]) // Relation to the Case model\\n  createdAt DateTime @default(now()) // Timestamp of party creation\\n  updatedAt DateTime @updatedAt // Timestamp of the last update\\n  deletedAt DateTime? // Optional timestamp of deletion\\n\\n  // Index on caseId to optimize queries involving the case field\\n  @@index([caseId])\\n}\\n\\n// Define the Document model\\nmodel Document {\\n  id        String   @id @default(cuid()) // Unique identifier for each document\\n  title     String // Title of the document\\n  content   String? // Optional content of the document\\n  caseId    String // Foreign key referencing the Case model\\n  case      Case     @relation(fields: [caseId], references: [id]) // Relation to the Case model\\n  createdAt DateTime @default(now()) // Timestamp of document creation\\n  updatedAt DateTime @updatedAt // Timestamp of the last update\\n  deletedAt DateTime? // Optional timestamp of deletion\\n\\n  // Index on caseId to optimize queries involving the case field\\n  @@index([caseId])\\n}\\n\\n// Define the Action model\\nmodel Action {\\n  id        String   @id @default(cuid()) // Unique identifier for each action\\n  name      String // Name of the action\\n  caseId    String // Foreign key referencing the Case model\\n  case      Case     @relation(fields: [caseId], references: [id]) // Relation to the Case model\\n  createdAt DateTime @default(now()) // Timestamp of action creation\\n  updatedAt DateTime @updatedAt // Timestamp of the last update\\n  deletedAt DateTime? // Optional timestamp of deletion\\n\\n  // Index on caseId to optimize queries involving the case field\\n  @@index([caseId])\\n}\\n\\n// Define the TimeSpent model\\nmodel TimeSpent {\\n  id        String   @id @default(cuid()) // Unique identifier for each time spent record\\n  duration  Int // Duration of time spent in minutes\\n  caseId    String // Foreign key referencing the Case model\\n  case      Case     @relation(fields: [caseId], references: [id]) // Relation to the Case model\\n  createdAt DateTime @default(now()) // Timestamp of time spent record creation\\n  updatedAt DateTime @updatedAt // Timestamp of the last update\\n  deletedAt DateTime? // Optional timestamp of deletion\\n\\n  // Index on caseId to optimize queries involving the case field\\n  @@index([caseId])\\n}\\n\\n// Define the Reimbursement model\\nmodel Reimbursement {\\n  id        String   @id @default(cuid()) // Unique identifier for each reimbursement\\n  amount    Float // Amount of the reimbursement\\n  caseId    String // Foreign key referencing the Case model\\n  case      Case     @relation(fields: [caseId], references: [id]) // Relation to the Case model\\n  createdAt DateTime @default(now()) // Timestamp of reimbursement creation\\n  updatedAt DateTime @updatedAt // Timestamp of the last update\\n  deletedAt DateTime? // Optional timestamp of deletion\\n\\n  // Index on caseId to optimize queries involving the case field\\n  @@index([caseId])\\n}\\n```\\n\\nThis schema sets up the models and their relationships according to your specifications. Each model includes the `createdAt`, `updatedAt`, and `deletedAt` fields for tracking creation, updates, and deletions. Indexes are also added to optimize queries involving foreign key fields.', name='PrismaSchemaGenerator')]}}\n",
      "---\n",
      "{'FileWriter': {'messages': [HumanMessage(content='The Prisma schema has been successfully created and saved to `schema.prisma`. You can now use this schema to set up your database and generate the Prisma Client. If you have any further requests or need additional modifications, feel free to ask!', name='FileWriter')]}}\n",
      "---\n"
     ]
    }
   ],
   "source": [
    "for s in generation_chain.stream(\n",
    "    \"Create a prisma schema with the models case, party, document, action, timespent, and reimbursement, cases can contain many of the mentioned models thus the case model has a one-to-many relationship with them.\",\n",
    "    {\"recursion_limit\": 150},\n",
    "):\n",
    "    if \"__end__\" not in s:\n",
    "        print(s)\n",
    "        print(\"---\")"
   ]
  },
  {
   "cell_type": "code",
   "execution_count": 92,
   "metadata": {},
   "outputs": [
    {
     "name": "stdout",
     "output_type": "stream",
     "text": [
      "{'supervisor': {'next': 'ApiRouteGenerator'}}\n",
      "---\n",
      "{'ApiRouteGenerator': {'messages': [HumanMessage(content=\"Here's the full API route implementation for the `reimbursement` model using TypeScript and Next.js:\\n\\n```typescript\\nimport { NextRequest, NextResponse } from 'next/server';\\nimport { ReimbursementOptionalDefaultsSchema, ReimbursementPartialSchema } from '@db/prisma/zod';\\nimport { prisma } from '@db/prisma';\\n\\nexport async function GET(request: NextRequest) {\\n  try {\\n    const id = request.nextUrl.searchParams.get('id');\\n    if (id) {\\n      const reimbursement = await prisma.reimbursement.findUnique({ where: { id } });\\n      return NextResponse.json({ data: reimbursement }, { status: 200 });\\n    }\\n\\n    const reimbursements = await prisma.reimbursement.findMany();\\n    return NextResponse.json({ data: reimbursements }, { status: 200 });\\n  } catch (error: any) {\\n    return NextResponse.json({ error: error.message }, { status: 500 });\\n  }\\n}\\n\\nexport async function POST(request: NextRequest) {\\n  const res = await request.json();\\n\\n  try {\\n    const validatedData = ReimbursementOptionalDefaultsSchema.parse(res);\\n    const createdReimbursement = await prisma.reimbursement.create({\\n      data: validatedData,\\n    });\\n    return NextResponse.json({ data: createdReimbursement }, { status: 200 });\\n  } catch (error: any) {\\n    return NextResponse.json({ error: error.message }, { status: 500 });\\n  }\\n}\\n\\nexport async function PATCH(request: NextRequest) {\\n  const res = await request.json();\\n  const id = request.nextUrl.searchParams.get('id');\\n  if (!id) return NextResponse.json({ error: 'No id provided' }, { status: 400 });\\n\\n  try {\\n    const validatedData = ReimbursementPartialSchema.parse(res);\\n    if (Object.keys(validatedData).length === 0) return NextResponse.json({ error: 'No valid data provided' }, { status: 400 });\\n\\n    const updatedReimbursement = await prisma.reimbursement.update({\\n      where: { id },\\n      data: validatedData,\\n    });\\n    return NextResponse.json({ data: updatedReimbursement }, { status: 200 });\\n  } catch (error: any) {\\n    return NextResponse.json({ error: error.message }, { status: 500 });\\n  }\\n}\\n\\nexport async function DELETE(request: NextRequest) {\\n  const id = request.nextUrl.searchParams.get('id');\\n  if (!id) return NextResponse.json({ error: 'No id provided' }, { status: 400 });\\n\\n  try {\\n    const deletedReimbursement = await prisma.reimbursement.delete({ where: { id } });\\n    return NextResponse.json({ data: deletedReimbursement }, { status: 200 });\\n  } catch (error: any) {\\n    return NextResponse.json({ error: error.message }, { status: 500 });\\n  }\\n}\\n```\\n\\n### Explanation:\\n\\n1. **GET**: Retrieves either a single reimbursement by `id` or all reimbursements if no `id` is provided.\\n2. **POST**: Creates a new reimbursement entry using validated data from the request body.\\n3. **PATCH**: Updates an existing reimbursement identified by `id` with the validated data from the request body.\\n4. **DELETE**: Deletes an existing reimbursement identified by `id`.\\n\\n### Dependencies:\\n\\n- **Prisma**: Used for database interactions.\\n- **Zod**: Used for schema validation.\\n\\nMake sure to adjust the import paths and dependencies according to your project's structure.\", name='ApiRouteGenerator')]}}\n",
      "---\n",
      "{'FileWriter': {'messages': [HumanMessage(content='The API route for the `reimbursement` model has been successfully created and saved to `reimbursementApiRoute.ts`. \\n\\nIf you need further assistance or modifications, feel free to ask!', name='FileWriter')]}}\n",
      "---\n"
     ]
    }
   ],
   "source": [
    "for s in generation_chain.stream(\n",
    "    \"Create an Api Route for the reimbursement model.\",\n",
    "    {\"recursion_limit\": 150},\n",
    "):\n",
    "    if \"__end__\" not in s:\n",
    "        print(s)\n",
    "        print(\"---\")"
   ]
  }
 ],
 "metadata": {
  "kernelspec": {
   "display_name": "kevin",
   "language": "python",
   "name": "python3"
  },
  "language_info": {
   "codemirror_mode": {
    "name": "ipython",
    "version": 3
   },
   "file_extension": ".py",
   "mimetype": "text/x-python",
   "name": "python",
   "nbconvert_exporter": "python",
   "pygments_lexer": "ipython3",
   "version": "3.12.3"
  }
 },
 "nbformat": 4,
 "nbformat_minor": 2
}
