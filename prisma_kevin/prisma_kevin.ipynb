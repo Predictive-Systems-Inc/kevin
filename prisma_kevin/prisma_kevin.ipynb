{
 "cells": [
  {
   "cell_type": "code",
   "execution_count": 63,
   "metadata": {},
   "outputs": [
    {
     "name": "stdout",
     "output_type": "stream",
     "text": [
      "Note: you may need to restart the kernel to use updated packages.\n"
     ]
    }
   ],
   "source": [
    "%pip install -qU langchain langchain_openai langgraph "
   ]
  },
  {
   "cell_type": "code",
   "execution_count": 64,
   "metadata": {},
   "outputs": [],
   "source": [
    "from langchain_openai import AzureChatOpenAI\n",
    "from langchain_core.prompts import ChatPromptTemplate, MessagesPlaceholder\n",
    "from langchain.schema.output_parser import StrOutputParser\n",
    "from langchain.agents import AgentExecutor, create_openai_functions_agent\n",
    "from langchain.output_parsers.openai_functions import JsonOutputFunctionsParser\n",
    "from langchain_core.messages import BaseMessage, HumanMessage\n",
    "from langchain_core.tools import tool\n",
    "from langgraph.graph import END, StateGraph\n",
    "\n",
    "from typing import Annotated, List, TypedDict\n",
    "import os\n",
    "from pathlib import Path\n",
    "from operator import itemgetter, add\n",
    "import functools"
   ]
  },
  {
   "cell_type": "code",
   "execution_count": 72,
   "metadata": {},
   "outputs": [],
   "source": [
    "WORKING_DIRECTORY = Path(f\"{os.getcwd()}\\\\generated\")"
   ]
  },
  {
   "cell_type": "code",
   "execution_count": 3,
   "metadata": {},
   "outputs": [],
   "source": [
    "api_key = \"a1ab70e0f13c4db1b2236ae9ea986511\"\n",
    "api_version = \"2024-05-01-preview\""
   ]
  },
  {
   "cell_type": "code",
   "execution_count": 55,
   "metadata": {},
   "outputs": [
    {
     "data": {
      "text/plain": [
       "AzureChatOpenAI(client=<openai.resources.chat.completions.Completions object at 0x00000198A2246090>, async_client=<openai.resources.chat.completions.AsyncCompletions object at 0x00000198A2247470>, model_name='gpt-4o', openai_api_key=SecretStr('**********'), openai_proxy='', azure_endpoint='https://james-ai.openai.azure.com/openai/deployments/gpt-4o/chat/completions?api-version=2024-05-01-preview', openai_api_version='2024-05-01-preview', openai_api_type='azure')"
      ]
     },
     "execution_count": 55,
     "metadata": {},
     "output_type": "execute_result"
    }
   ],
   "source": [
    "llm = AzureChatOpenAI(\n",
    "  model=\"gpt-4o\",\n",
    "  api_key=api_key,\n",
    "  api_version=api_version,\n",
    "  azure_endpoint = f\"https://james-ai.openai.azure.com/openai/deployments/gpt-4o/chat/completions?api-version={api_version}\"\n",
    ")\n",
    "\n",
    "llm"
   ]
  },
  {
   "cell_type": "code",
   "execution_count": 84,
   "metadata": {},
   "outputs": [],
   "source": [
    "RAG_PROMPT = \"\"\"\n",
    "CONTEXT:\n",
    "{context}\n",
    "\n",
    "QUESTION:\n",
    "{question}\n",
    "\n",
    "You are a helpful assistant knowledgeable in Prisma.\n",
    "Use the available prisma schema context as the examples to generate a prisma schema based on the model names given in the question.\n",
    "Make sure that the datasource db and generator client are added on the generated schema.\n",
    "Make sure that the fields createdAt, updatedAt, and deletedAt are added to the models.\n",
    "Make sure that the schema is valid and correct based on the given question.\n",
    "If you can't answer the question, say you don't know.\n",
    "If the question is unclear or not related to Prisma, say you don't know.\n",
    "\"\"\"\n",
    "\n",
    "rag_prompt = ChatPromptTemplate.from_template(RAG_PROMPT)"
   ]
  },
  {
   "cell_type": "code",
   "execution_count": 57,
   "metadata": {},
   "outputs": [
    {
     "data": {
      "text/plain": [
       "{'data': 'Example for MANY-TO-MANY:\\n// Define the User model  \\nmodel User {\\n  id        String         @id @default(cuid()) // Unique identifier for each user  \\n  email     String         @unique // Unique email for each user  \\n  name      String? // Optional name field  \\n  projects  UserProjects[] // Relation to the UserProjects model for many-to-many relationship  \\n  createdAt DateTime       @default(now()) // Timestamp of user creation  \\n  updatedAt DateTime       @updatedAt // Timestamp of the last update  \\n}\\n\\n// Define the Project model  \\nmodel Project {\\n  id        String         @id @default(cuid()) // Unique identifier for each project  \\n  name      String // Name of the project  \\n  users     UserProjects[] // Relation to the UserProjects model for many-to-many relationship  \\n  createdAt DateTime       @default(now()) // Timestamp of project creation  \\n  updatedAt DateTime       @updatedAt // Timestamp of the last update  \\n}\\n\\n// Define the UserProjects model, which acts as the join table  \\nmodel UserProjects {\\n  userId    String // Foreign key referencing the User model  \\n  projectId String // Foreign key referencing the Project model  \\n  user      User     @relation(fields: [userId], references: [id]) // Relation to the User model  \\n  project   Project  @relation(fields: [projectId], references: [id]) // Relation to the Project model  \\n  createdAt DateTime @default(now()) // Timestamp of the relationship creation  \\n  updatedAt DateTime @updatedAt // Timestamp of the last update  \\n\\n  // Composite primary key to ensure uniqueness of each user-project pair  \\n  @@id([userId, projectId])\\n  // Index on projectId to optimize queries involving the project field  \\n  @@index([projectId])\\n}\\n\\nExample for ONE-TO-MANY:\\n// Define the User model  \\nmodel User {\\n  id        String   @id @default(cuid()) // Unique identifier for each user  \\n  email     String   @unique // Unique email for each user  \\n  name      String? // Optional name field  \\n  posts     Post[] // One-to-many relation to the Post model  \\n  createdAt DateTime @default(now()) // Timestamp of user creation  \\n  updatedAt DateTime @updatedAt // Timestamp of the last update  \\n}\\n\\n// Define the Post model  \\nmodel Post {\\n  id        String   @id @default(cuid()) // Unique identifier for each post  \\n  title     String // Title of the post  \\n  content   String? // Optional content of the post  \\n  userId    String // Foreign key referencing the User model  \\n  user      User     @relation(fields: [userId], references: [id]) // Relation to the User model  \\n  createdAt DateTime @default(now()) // Timestamp of post creation  \\n  updatedAt DateTime @updatedAt // Timestamp of the last update  \\n\\n  // Index on userId to optimize queries involving the user field  \\n  @@index([userId])\\n}\\n\\nExample for ONE-TO-ONE:\\n// Define the User model  \\nmodel User {\\n  id        String   @id @default(cuid()) // Unique identifier for each user  \\n  email     String   @unique // Unique email for each user  \\n  name      String? // Optional name field  \\n  profile   Profile? // One-to-one relation to the Profile model  \\n  createdAt DateTime @default(now()) // Timestamp of user creation  \\n  updatedAt DateTime @updatedAt // Timestamp of the last update  \\n}\\n\\n// Define the Profile model  \\nmodel Profile {\\n  id        String   @id @default(cuid()) // Unique identifier for each profile  \\n  bio       String? // Optional bio field  \\n  userId    String // Foreign key referencing the User model  \\n  user      User     @relation(fields: [userId], references: [id]) // Relation to the User model  \\n  createdAt DateTime @default(now()) // Timestamp of profile creation  \\n  updatedAt DateTime @updatedAt // Timestamp of the last update  \\n\\n  // Ensure userId is unique, enforcing the one-to-one relationship  \\n  @@unique([userId])\\n}\\n\\n'}"
      ]
     },
     "execution_count": 57,
     "metadata": {},
     "output_type": "execute_result"
    }
   ],
   "source": [
    "directory_path = Path('templates/')\n",
    "\n",
    "contents = {'data': ''}\n",
    "\n",
    "for file_path in directory_path.glob('*.prisma'):\n",
    "    content = file_path.read_text()\n",
    "    contents['data'] += (f\"Example for {file_path.stem.upper()}:\\n{content}\\n\")\n",
    "\n",
    "contents"
   ]
  },
  {
   "cell_type": "code",
   "execution_count": 85,
   "metadata": {},
   "outputs": [],
   "source": [
    "chain = (\n",
    "    {\"context\": itemgetter(\"context\"), \"question\": itemgetter(\"question\")}\n",
    "    | rag_prompt | llm | StrOutputParser()\n",
    ")"
   ]
  },
  {
   "cell_type": "code",
   "execution_count": 41,
   "metadata": {},
   "outputs": [
    {
     "data": {
      "text/plain": [
       "\"I'm sorry, but I don't have the information necessary to answer your question about the meaning of 'context' in 'long context.' If you have any other questions or need assistance with Prisma schema, feel free to ask!\""
      ]
     },
     "execution_count": 41,
     "metadata": {},
     "output_type": "execute_result"
    }
   ],
   "source": [
    "chain.invoke({\"context\": contents['data'], \"question\" : \"What does the 'context' in 'long context' refer to?\"})"
   ]
  },
  {
   "cell_type": "code",
   "execution_count": 42,
   "metadata": {},
   "outputs": [
    {
     "data": {
      "text/plain": [
       "\"Sure, I can help you create a Prisma schema based on the given models and relationships. Here's a schema where the `Case` model has a one-to-many relationship with the `Party`, `Document`, `Action`, `TimeSpent`, and `Reimbursement` models:\\n\\n```prisma\\n// Define the Case model\\nmodel Case {\\n  id            String         @id @default(cuid()) // Unique identifier for each case\\n  caseNumber    String         @unique // Unique case number\\n  title         String // Title of the case\\n  parties       Party[] // One-to-many relation to the Party model\\n  documents     Document[] // One-to-many relation to the Document model\\n  actions       Action[] // One-to-many relation to the Action model\\n  timespents    TimeSpent[] // One-to-many relation to the TimeSpent model\\n  reimbursements Reimbursement[] // One-to-many relation to the Reimbursement model\\n  createdAt     DateTime       @default(now()) // Timestamp of case creation\\n  updatedAt     DateTime       @updatedAt // Timestamp of the last update\\n}\\n\\n// Define the Party model\\nmodel Party {\\n  id        String   @id @default(cuid()) // Unique identifier for each party\\n  name      String // Name of the party\\n  caseId    String // Foreign key referencing the Case model\\n  case      Case     @relation(fields: [caseId], references: [id]) // Relation to the Case model\\n  createdAt DateTime @default(now()) // Timestamp of party creation\\n  updatedAt DateTime @updatedAt // Timestamp of the last update\\n\\n  // Index on caseId to optimize queries involving the case field\\n  @@index([caseId])\\n}\\n\\n// Define the Document model\\nmodel Document {\\n  id        String   @id @default(cuid()) // Unique identifier for each document\\n  title     String // Title of the document\\n  content   String? // Optional content of the document\\n  caseId    String // Foreign key referencing the Case model\\n  case      Case     @relation(fields: [caseId], references: [id]) // Relation to the Case model\\n  createdAt DateTime @default(now()) // Timestamp of document creation\\n  updatedAt DateTime @updatedAt // Timestamp of the last update\\n\\n  // Index on caseId to optimize queries involving the case field\\n  @@index([caseId])\\n}\\n\\n// Define the Action model\\nmodel Action {\\n  id        String   @id @default(cuid()) // Unique identifier for each action\\n  description String // Description of the action\\n  caseId    String // Foreign key referencing the Case model\\n  case      Case     @relation(fields: [caseId], references: [id]) // Relation to the Case model\\n  createdAt DateTime @default(now()) // Timestamp of action creation\\n  updatedAt DateTime @updatedAt // Timestamp of the last update\\n\\n  // Index on caseId to optimize queries involving the case field\\n  @@index([caseId])\\n}\\n\\n// Define the TimeSpent model\\nmodel TimeSpent {\\n  id        String   @id @default(cuid()) // Unique identifier for each timespent entry\\n  duration  Int // Duration of time spent in minutes\\n  caseId    String // Foreign key referencing the Case model\\n  case      Case     @relation(fields: [caseId], references: [id]) // Relation to the Case model\\n  createdAt DateTime @default(now()) // Timestamp of timespent entry creation\\n  updatedAt DateTime @updatedAt // Timestamp of the last update\\n\\n  // Index on caseId to optimize queries involving the case field\\n  @@index([caseId])\\n}\\n\\n// Define the Reimbursement model\\nmodel Reimbursement {\\n  id        String   @id @default(cuid()) // Unique identifier for each reimbursement\\n  amount    Float // Amount of the reimbursement\\n  caseId    String // Foreign key referencing the Case model\\n  case      Case     @relation(fields: [caseId], references: [id]) // Relation to the Case model\\n  createdAt DateTime @default(now()) // Timestamp of reimbursement creation\\n  updatedAt DateTime @updatedAt // Timestamp of the last update\\n\\n  // Index on caseId to optimize queries involving the case field\\n  @@index([caseId])\\n}\\n```\\n\\nIn this schema:\\n- The `Case` model has a one-to-many relationship with the `Party`, `Document`, `Action`, `TimeSpent`, and `Reimbursement` models.\\n- Each model has a foreign key referencing the `Case` model.\\n- Indices are created on the foreign keys to optimize queries.\\n\\nThis should cover the relationships as described in your question.\""
      ]
     },
     "execution_count": 42,
     "metadata": {},
     "output_type": "execute_result"
    }
   ],
   "source": [
    "chain.invoke({\"context\": contents['data'], \"question\" : \"Create a prisma schema with the models case, party, document, action, timespent, and reimbursement, cases can contain many of the mentioned models thus the case model has a one-to-many relationship with them ?\"})"
   ]
  },
  {
   "cell_type": "code",
   "execution_count": 53,
   "metadata": {},
   "outputs": [],
   "source": [
    "def agent_node(state, agent, name):\n",
    "    result = agent.invoke(state)\n",
    "    return {\"messages\": [HumanMessage(content=result[\"output\"], name=name)]}"
   ]
  },
  {
   "cell_type": "code",
   "execution_count": 47,
   "metadata": {},
   "outputs": [],
   "source": [
    "def create_agent(\n",
    "    llm: AzureChatOpenAI,\n",
    "    tools: list,\n",
    "    system_prompt: str,\n",
    ") -> str:\n",
    "    \"\"\"Create a function-calling agent and add it to the graph.\"\"\"\n",
    "    system_prompt += \"\\nWork autonomously according to your specialty, using the tools available to you.\"\n",
    "    \" Do not ask for clarification.\"\n",
    "    \" Your other team members will collaborate with you with their own specialties.\"\n",
    "    prompt = ChatPromptTemplate.from_messages(\n",
    "        [\n",
    "            (\n",
    "                \"system\",\n",
    "                system_prompt,\n",
    "            ),\n",
    "            MessagesPlaceholder(variable_name=\"messages\"),\n",
    "            MessagesPlaceholder(variable_name=\"agent_scratchpad\"),\n",
    "        ]\n",
    "    )\n",
    "    agent = create_openai_functions_agent(llm, tools, prompt)\n",
    "    executor = AgentExecutor(agent=agent, tools=tools)\n",
    "    return executor"
   ]
  },
  {
   "cell_type": "code",
   "execution_count": 48,
   "metadata": {},
   "outputs": [],
   "source": [
    "def create_team_supervisor(llm: AzureChatOpenAI, system_prompt, members) -> str:\n",
    "    \"\"\"An LLM-based router.\"\"\"\n",
    "    options = [\"FINISH\"] + members\n",
    "    function_def = {\n",
    "        \"name\": \"route\",\n",
    "        \"description\": \"Select the next role.\",\n",
    "        \"parameters\": {\n",
    "            \"title\": \"routeSchema\",\n",
    "            \"type\": \"object\",\n",
    "            \"properties\": {\n",
    "                \"next\": {\n",
    "                    \"title\": \"Next\",\n",
    "                    \"anyOf\": [\n",
    "                        {\"enum\": options},\n",
    "                    ],\n",
    "                },\n",
    "            },\n",
    "            \"required\": [\"next\"],\n",
    "        },\n",
    "    }\n",
    "    prompt = ChatPromptTemplate.from_messages(\n",
    "        [\n",
    "            (\"system\", system_prompt),\n",
    "            MessagesPlaceholder(variable_name=\"messages\"),\n",
    "            (\n",
    "                \"system\",\n",
    "                \"Given the conversation above, who should act next?\"\n",
    "                \"Or should we FINISH? Select one of: {options}\",\n",
    "            ),\n",
    "        ]\n",
    "    ).partial(options=str(options), team_members=\", \".join(members))\n",
    "    return (\n",
    "        prompt\n",
    "        | llm.bind_functions(functions=[function_def], function_call=\"route\")\n",
    "        | JsonOutputFunctionsParser()\n",
    "    )"
   ]
  },
  {
   "cell_type": "code",
   "execution_count": 86,
   "metadata": {},
   "outputs": [],
   "source": [
    "@tool\n",
    "def generate_schema(\n",
    "    query: Annotated[str, \"query to ask the generate schema tool\"]\n",
    "    ):\n",
    "  \"\"\"Use Retrieval Augmented Generation to generate a Prisma Schema\"\"\"\n",
    "  return chain.invoke({\"context\": contents['data'], \"question\" : query})"
   ]
  },
  {
   "cell_type": "code",
   "execution_count": 73,
   "metadata": {},
   "outputs": [],
   "source": [
    "@tool\n",
    "def write_schema(\n",
    "    content: Annotated[str, \"Text content to be written into the document.\"],\n",
    "    file_name: Annotated[str, \"File path to save the document.\"],\n",
    ") -> Annotated[str, \"Path of the saved document file.\"]:\n",
    "    \"\"\"Create and save a text document.\"\"\"\n",
    "    with (WORKING_DIRECTORY / file_name).open(\"w\") as file:\n",
    "        file.write(content)\n",
    "    return f\"Document saved to {file_name}\""
   ]
  },
  {
   "cell_type": "code",
   "execution_count": 87,
   "metadata": {},
   "outputs": [],
   "source": [
    "class SchemaGenerationState(TypedDict):\n",
    "    messages: Annotated[List[BaseMessage], add]\n",
    "    team_members: str\n",
    "    next: str\n",
    "    current_files: str"
   ]
  },
  {
   "cell_type": "code",
   "execution_count": 88,
   "metadata": {},
   "outputs": [],
   "source": [
    "def prelude(state):\n",
    "    written_files = []\n",
    "    if not WORKING_DIRECTORY.exists():\n",
    "        WORKING_DIRECTORY.mkdir()\n",
    "    try:\n",
    "        written_files = [\n",
    "            f.relative_to(WORKING_DIRECTORY) for f in WORKING_DIRECTORY.rglob(\"*\")\n",
    "        ]\n",
    "    except:\n",
    "        pass\n",
    "    if not written_files:\n",
    "        return {**state, \"current_files\": \"No files written.\"}\n",
    "    return {\n",
    "        **state,\n",
    "        \"current_files\": \"\\nBelow are files your team has written to the directory:\\n\"\n",
    "        + \"\\n\".join([f\" - {f}\" for f in written_files]),\n",
    "    }"
   ]
  },
  {
   "cell_type": "code",
   "execution_count": 89,
   "metadata": {},
   "outputs": [],
   "source": [
    "generate_schema_agent = create_agent(\n",
    "    llm,\n",
    "    [generate_schema],\n",
    "    \"You are an expert in generating Prisma Schemas.\\n\",\n",
    ")\n",
    "schema_generating_node = functools.partial(agent_node, agent=generate_schema_agent, name=\"SchemaGenerator\")"
   ]
  },
  {
   "cell_type": "code",
   "execution_count": 90,
   "metadata": {},
   "outputs": [],
   "source": [
    "schema_writer_agent = create_agent(\n",
    "    llm,\n",
    "    [write_schema],\n",
    "    \"You are an expert in writing Prisma Schemas.\\n\"\n",
    "    \"Below are files currently in your directory:\\n{current_files}\",\n",
    ")\n",
    "context_aware_doc_writer_agent = prelude | schema_writer_agent\n",
    "schema_writing_node = functools.partial(\n",
    "    agent_node, agent=context_aware_doc_writer_agent, name=\"SchemaWriter\"\n",
    ")"
   ]
  },
  {
   "cell_type": "code",
   "execution_count": 91,
   "metadata": {},
   "outputs": [],
   "source": [
    "schema_generation_supervisor = create_team_supervisor(\n",
    "    llm,\n",
    "    \"You are a supervisor tasked with managing a conversation between the\"\n",
    "    \" following workers:  {team_members}.\"\n",
    "    \"Given the following user request,\"\n",
    "    \" respond with the worker to act next. Each worker will perform a\"\n",
    "    \" task and respond with their results and status. When finished,\"\n",
    "    \" respond with FINISH.\",\n",
    "    [\"SchemaWriter\", \"SchemaGenerator\"],\n",
    ")"
   ]
  },
  {
   "cell_type": "code",
   "execution_count": 92,
   "metadata": {},
   "outputs": [],
   "source": [
    "schema_generation_graph = StateGraph(SchemaGenerationState)\n",
    "schema_generation_graph.add_node(\"SchemaGenerator\", schema_generating_node)\n",
    "schema_generation_graph.add_node(\"SchemaWriter\", schema_writing_node)\n",
    "schema_generation_graph.add_node(\"supervisor\", schema_generation_supervisor)\n",
    "\n",
    "schema_generation_graph.add_edge(\"SchemaGenerator\", \"supervisor\")\n",
    "schema_generation_graph.add_edge(\"SchemaWriter\", \"supervisor\")\n",
    "\n",
    "schema_generation_graph.add_conditional_edges(\n",
    "    \"supervisor\",\n",
    "    lambda x: x[\"next\"],\n",
    "    {\n",
    "        \"SchemaGenerator\": \"SchemaGenerator\",\n",
    "        \"SchemaWriter\": \"SchemaWriter\",\n",
    "        \"FINISH\": END,\n",
    "    },\n",
    ")\n",
    "\n",
    "schema_generation_graph.set_entry_point(\"supervisor\")\n",
    "graph = schema_generation_graph.compile()"
   ]
  },
  {
   "cell_type": "code",
   "execution_count": 93,
   "metadata": {},
   "outputs": [
    {
     "data": {
      "image/jpeg": "[encoded data removed]",
      "text/plain": [
       "<IPython.core.display.Image object>"
      ]
     },
     "metadata": {},
     "output_type": "display_data"
    }
   ],
   "source": [
    "from IPython.display import Image, display\n",
    "\n",
    "try:\n",
    "    display(Image(graph.get_graph(xray=True).draw_mermaid_png()))\n",
    "except:\n",
    "    pass"
   ]
  },
  {
   "cell_type": "code",
   "execution_count": 94,
   "metadata": {},
   "outputs": [],
   "source": [
    "def enter_chain(message: str, members: List[str]):\n",
    "    results = {\n",
    "        \"messages\": [HumanMessage(content=message)],\n",
    "        \"team_members\": \", \".join(members),\n",
    "    }\n",
    "    return results\n",
    "\n",
    "schema_generation_chain = (\n",
    "    functools.partial(enter_chain, members=schema_generation_graph.nodes)\n",
    "    | schema_generation_graph.compile()\n",
    ")"
   ]
  },
  {
   "cell_type": "code",
   "execution_count": 95,
   "metadata": {},
   "outputs": [
    {
     "name": "stdout",
     "output_type": "stream",
     "text": [
      "{'supervisor': {'next': 'SchemaGenerator'}}\n",
      "---\n",
      "{'SchemaGenerator': {'messages': [HumanMessage(content='Here is the generated Prisma schema that includes the models `Case`, `Party`, `Document`, `Action`, `TimeSpent`, and `Reimbursement`. The `Case` model has a one-to-many relationship with all other models:\\n\\n```prisma\\n// Define the datasource and generator\\ndatasource db {\\n  provider = \"postgresql\" // You can change this to your preferred database provider\\n  url      = env(\"DATABASE_URL\")\\n}\\n\\ngenerator client {\\n  provider = \"prisma-client-js\"\\n}\\n\\n// Define the Case model\\nmodel Case {\\n  id            String          @id @default(cuid()) // Unique identifier for each case\\n  name          String          // Name of the case\\n  parties       Party[]         // One-to-many relation to the Party model\\n  documents     Document[]      // One-to-many relation to the Document model\\n  actions       Action[]        // One-to-many relation to the Action model\\n  timespents    TimeSpent[]     // One-to-many relation to the TimeSpent model\\n  reimbursements Reimbursement[] // One-to-many relation to the Reimbursement model\\n  createdAt     DateTime        @default(now()) // Timestamp of case creation\\n  updatedAt     DateTime        @updatedAt // Timestamp of the last update\\n  deletedAt     DateTime?       // Optional timestamp of case deletion\\n}\\n\\n// Define the Party model\\nmodel Party {\\n  id        String   @id @default(cuid()) // Unique identifier for each party\\n  name      String   // Name of the party\\n  caseId    String   // Foreign key referencing the Case model\\n  case      Case     @relation(fields: [caseId], references: [id]) // Relation to the Case model\\n  createdAt DateTime @default(now()) // Timestamp of party creation\\n  updatedAt DateTime @updatedAt // Timestamp of the last update\\n  deletedAt DateTime? // Optional timestamp of party deletion\\n\\n  // Index on caseId to optimize queries involving the case field\\n  @@index([caseId])\\n}\\n\\n// Define the Document model\\nmodel Document {\\n  id        String   @id @default(cuid()) // Unique identifier for each document\\n  title     String   // Title of the document\\n  content   String?  // Optional content of the document\\n  caseId    String   // Foreign key referencing the Case model\\n  case      Case     @relation(fields: [caseId], references: [id]) // Relation to the Case model\\n  createdAt DateTime @default(now()) // Timestamp of document creation\\n  updatedAt DateTime @updatedAt // Timestamp of the last update\\n  deletedAt DateTime? // Optional timestamp of document deletion\\n\\n  // Index on caseId to optimize queries involving the case field\\n  @@index([caseId])\\n}\\n\\n// Define the Action model\\nmodel Action {\\n  id        String   @id @default(cuid()) // Unique identifier for each action\\n  name      String   // Name of the action\\n  caseId    String   // Foreign key referencing the Case model\\n  case      Case     @relation(fields: [caseId], references: [id]) // Relation to the Case model\\n  createdAt DateTime @default(now()) // Timestamp of action creation\\n  updatedAt DateTime @updatedAt // Timestamp of the last update\\n  deletedAt DateTime? // Optional timestamp of action deletion\\n\\n  // Index on caseId to optimize queries involving the case field\\n  @@index([caseId])\\n}\\n\\n// Define the TimeSpent model\\nmodel TimeSpent {\\n  id        String   @id @default(cuid()) // Unique identifier for each time spent record\\n  duration  Int      // Duration of time spent in minutes\\n  caseId    String   // Foreign key referencing the Case model\\n  case      Case     @relation(fields: [caseId], references: [id]) // Relation to the Case model\\n  createdAt DateTime @default(now()) // Timestamp of time spent record creation\\n  updatedAt DateTime @updatedAt // Timestamp of the last update\\n  deletedAt DateTime? // Optional timestamp of time spent record deletion\\n\\n  // Index on caseId to optimize queries involving the case field\\n  @@index([caseId])\\n}\\n\\n// Define the Reimbursement model\\nmodel Reimbursement {\\n  id        String   @id @default(cuid()) // Unique identifier for each reimbursement\\n  amount    Float    // Amount of the reimbursement\\n  caseId    String   // Foreign key referencing the Case model\\n  case      Case     @relation(fields: [caseId], references: [id]) // Relation to the Case model\\n  createdAt DateTime @default(now()) // Timestamp of reimbursement creation\\n  updatedAt DateTime @updatedAt // Timestamp of the last update\\n  deletedAt DateTime? // Optional timestamp of reimbursement deletion\\n\\n  // Index on caseId to optimize queries involving the case field\\n  @@index([caseId])\\n}\\n```\\n\\nThis schema defines the `Case` model with one-to-many relationships to the `Party`, `Document`, `Action`, `TimeSpent`, and `Reimbursement` models. Each model includes the required fields `createdAt`, `updatedAt`, and `deletedAt`. The schema also includes the `datasource` and `generator` configurations.', name='SchemaGenerator')]}}\n",
      "---\n",
      "{'supervisor': {'next': 'SchemaWriter'}}\n",
      "---\n",
      "{'SchemaWriter': {'messages': [HumanMessage(content='The Prisma schema has been successfully created and saved as `schema2.prisma`. This schema includes the `Case`, `Party`, `Document`, `Action`, `TimeSpent`, and `Reimbursement` models, with appropriate one-to-many relationships between the `Case` model and the other models. If you need any further modifications or additional features, feel free to ask!', name='SchemaWriter')]}}\n",
      "---\n",
      "{'supervisor': {'next': 'FINISH'}}\n",
      "---\n"
     ]
    }
   ],
   "source": [
    "for s in schema_generation_chain.stream(\n",
    "    \"Create a prisma schema with the models case, party, document, action, timespent, and reimbursement, cases can contain many of the mentioned models thus the case model has a one-to-many relationship with them.\",\n",
    "    {\"recursion_limit\": 150},\n",
    "):\n",
    "    if \"__end__\" not in s:\n",
    "        print(s)\n",
    "        print(\"---\")"
   ]
  }
 ],
 "metadata": {
  "kernelspec": {
   "display_name": "kevin",
   "language": "python",
   "name": "python3"
  },
  "language_info": {
   "codemirror_mode": {
    "name": "ipython",
    "version": 3
   },
   "file_extension": ".py",
   "mimetype": "text/x-python",
   "name": "python",
   "nbconvert_exporter": "python",
   "pygments_lexer": "ipython3",
   "version": "3.12.3"
  }
 },
 "nbformat": 4,
 "nbformat_minor": 2
}
