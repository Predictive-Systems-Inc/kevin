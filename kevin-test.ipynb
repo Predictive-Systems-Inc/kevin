{
 "cells": [
  {
   "cell_type": "code",
   "execution_count": 1,
   "metadata": {},
   "outputs": [],
   "source": [
    "import os\n",
    "import openai\n",
    "from getpass import getpass\n",
    "\n",
    "openai.api_key = getpass(\"Please provide your OpenAI Key: \")\n",
    "os.environ[\"OPENAI_API_KEY\"] = openai.api_key"
   ]
  },
  {
   "cell_type": "code",
   "execution_count": 5,
   "metadata": {},
   "outputs": [],
   "source": [
    "# recursively loop all the files under templates folder\n",
    "# and read their content\n",
    "templates = {}\n",
    "for root, dirs, files in os.walk(\"templates/billing\"):\n",
    "    for file in files:\n",
    "        with open(os.path.join(root, file), \"r\") as f:\n",
    "            templates[os.path.join(root, file)] = f.read()"
   ]
  },
  {
   "cell_type": "code",
   "execution_count": 7,
   "metadata": {},
   "outputs": [],
   "source": [
    "# create the prompt with all the templates\n",
    "boilerplate = \"\"\n",
    "for index, template in enumerate(templates):\n",
    "    boilerplate += f\"Start of Boilerplate #{index+1}: {template}\\n\"\n",
    "    boilerplate += f\"{templates[template]}\\n\"\n",
    "    boilerplate += f\"End of Boilerplate #{index+1}: {template}\\n\\n\"\n"
   ]
  },
  {
   "cell_type": "code",
   "execution_count": 8,
   "metadata": {},
   "outputs": [
    {
     "name": "stdout",
     "output_type": "stream",
     "text": [
      "Start of Boilerplate #1: templates/billing/billing-data.tsx\n",
      "import {\n",
      "  Tooltip,\n",
      "  TooltipContent,\n",
      "  TooltipProvider,\n",
      "  TooltipTrigger,\n",
      "} from '@ui/core/shadcn/tooltip'\n",
      "\n",
      "import { Label } from '@ui/core/shadcn/label'\n",
      "import React from 'react'\n",
      "import { TbClockDollar } from 'react-icons/tb'\n",
      "import { TbFileDollar } from 'react-icons/tb'\n",
      "\n",
      "export default function BillingData() {\n",
      "  return (\n",
      "    <div className=\"flex flex-col items-end justify-center gap-2\">\n",
      "\n",
      "    </div>\n",
      "  )\n",
      "}\n",
      "\n",
      "End of Boilerplate #1: templates/billing/billing-data.tsx\n",
      "\n",
      "Start of Boilerplate #2: templates/billing/billing.tsx\n",
      "import BillingData from '@app/(protected)/case-profile/[id]/billing/billing-data'\n",
      "import React from 'react'\n",
      "import Tabs from '@common/components/tabs'\n",
      "import { TbClockDollar } from 'react-icons/tb'\n",
      "import { TbFileDollar } from 'react-icons/tb'\n",
      "\n",
      "interface BillingProps {\n",
      "  id: string\n",
      "  children: React.ReactNode\n",
      "}\n",
      "\n",
      "export default function Billing({ id, children }: BillingProps) {\n",
      "  const billingTabs = [\n",
      "    {\n",
      "      name: 'Time Spent',\n",
      "      href: `/case-profile/${id}/billing/hours`,\n",
      "      displayChildren: true,\n",
      "      icon: <TbClockDollar className=\"-ml-0.5 mr-2 h-5 w-5\" />,\n",
      "    },\n",
      "    {\n",
      "      name: 'Reimbursement',\n",
      "      href: `/case-profile/${id}/billing/reimbursement`,\n",
      "      displayChildren: true,\n",
      "      icon: <TbFileDollar className=\"-ml-0.5 mr-2 h-5 w-5\" />,\n",
      "    },\n",
      "  ]\n",
      "\n",
      "  return (\n",
      "    <div>\n",
      "      <div className=\"max-w-5xl mb-5 bg-white mx-auto shadow-lg rounded-lg dark:bg-gray-950 p-4 dark:text-gray-50\">\n",
      "        <div className=\"flex items-stretch justify-between\">\n",
      "          <Tabs tabs={billingTabs}>\n",
      "            <BillingData />\n",
      "          </Tabs>\n",
      "        </div>\n",
      "        <div className=\"mt-2 ring-offset-white focus-visible:outline-none focus-visible:ring-2 focus-visible:ring-slate-950 focus-visible:ring-offset-2 dark:ring-offset-slate-950 dark:focus-visible:ring-slate-300\">\n",
      "          {children}\n",
      "        </div>\n",
      "      </div>\n",
      "    </div>\n",
      "  )\n",
      "}\n",
      "\n",
      "End of Boilerplate #2: templates/billing/billing.tsx\n",
      "\n",
      "\n"
     ]
    }
   ],
   "source": [
    "print(boilerplate)"
   ]
  },
  {
   "cell_type": "code",
   "execution_count": 9,
   "metadata": {},
   "outputs": [],
   "source": [
    "from langchain.prompts import ChatPromptTemplate\n",
    "\n",
    "template = \"\"\"Update the code below with the following changes: \n",
    " Add total time and total billing on the top right portion of the screen. \n",
    "\n",
    "-----------------\n",
    "{boilerplate}\n",
    "-----------------\n",
    "\n",
    "Respond immediately in the following format:\n",
    "Filename: [filename]\n",
    "Code: [code] \n",
    "\"\"\"\n",
    "prompt = ChatPromptTemplate.from_template(template)\n"
   ]
  },
  {
   "cell_type": "code",
   "execution_count": 46,
   "metadata": {},
   "outputs": [],
   "source": [
    "from langchain.prompts import ChatPromptTemplate\n",
    "\n",
    "template = \"\"\"Generate {count} source code using next.js and prisma \n",
    "based on the given {count} boilerplate below. \n",
    "Follow the boilerplate markers to generate the multiple code. \n",
    "\n",
    "-----------------\n",
    "{boilerplate}\n",
    "-----------------\n",
    "\n",
    "Replace the table name case to department.\n",
    "\n",
    "Replace the fields of the boilerplate with to include the new fields below:\n",
    "  id         \n",
    "  name        \n",
    "  type       \n",
    "  category    \n",
    "  description \n",
    "  isRequired \n",
    "\n",
    "\n",
    "Respond immediately in the following format:\n",
    "Filename: [filename]\n",
    "Code: [code] \n",
    "\"\"\"\n",
    "prompt = ChatPromptTemplate.from_template(template)\n"
   ]
  },
  {
   "cell_type": "code",
   "execution_count": 47,
   "metadata": {},
   "outputs": [
    {
     "name": "stdout",
     "output_type": "stream",
     "text": [
      "3\n"
     ]
    }
   ],
   "source": [
    "print(len(templates))"
   ]
  },
  {
   "cell_type": "code",
   "execution_count": 10,
   "metadata": {},
   "outputs": [],
   "source": [
    "from langchain_openai import ChatOpenAI\n",
    "\n",
    "openai_chat_model = ChatOpenAI(model=\"gpt-4o\")"
   ]
  },
  {
   "cell_type": "code",
   "execution_count": 11,
   "metadata": {},
   "outputs": [],
   "source": [
    "from langchain_core.output_parsers import StrOutputParser\n",
    "\n",
    "chain = prompt | openai_chat_model | StrOutputParser()"
   ]
  },
  {
   "cell_type": "code",
   "execution_count": 12,
   "metadata": {},
   "outputs": [],
   "source": [
    "result = chain.invoke({\"boilerplate\": {boilerplate}, \"count\": len(templates)})"
   ]
  },
  {
   "cell_type": "code",
   "execution_count": 13,
   "metadata": {},
   "outputs": [
    {
     "name": "stdout",
     "output_type": "stream",
     "text": [
      "Filename: templates/billing/billing-data.tsx\n",
      "Code: \n",
      "```tsx\n",
      "import {\n",
      "  Tooltip,\n",
      "  TooltipContent,\n",
      "  TooltipProvider,\n",
      "  TooltipTrigger,\n",
      "} from '@ui/core/shadcn/tooltip'\n",
      "\n",
      "import { Label } from '@ui/core/shadcn/label'\n",
      "import React from 'react'\n",
      "import { TbClockDollar } from 'react-icons/tb'\n",
      "import { TbFileDollar } from 'react-icons/tb'\n",
      "\n",
      "export default function BillingData() {\n",
      "  return (\n",
      "    <div className=\"flex flex-col items-end justify-center gap-2\">\n",
      "      <div className=\"flex flex-col items-end\">\n",
      "        <div className=\"flex items-center justify-between w-full\">\n",
      "          <span className=\"text-xl font-semibold\">Total Time:</span>\n",
      "          <span className=\"text-xl\">00:00</span> {/* Placeholder for total time */}\n",
      "        </div>\n",
      "        <div className=\"flex items-center justify-between w-full\">\n",
      "          <span className=\"text-xl font-semibold\">Total Billing:</span>\n",
      "          <span className=\"text-xl\">$0.00</span> {/* Placeholder for total billing */}\n",
      "        </div>\n",
      "      </div>\n",
      "    </div>\n",
      "  )\n",
      "}\n",
      "```\n",
      "\n",
      "Filename: templates/billing/billing.tsx\n",
      "Code: \n",
      "```tsx\n",
      "import BillingData from '@app/(protected)/case-profile/[id]/billing/billing-data'\n",
      "import React from 'react'\n",
      "import Tabs from '@common/components/tabs'\n",
      "import { TbClockDollar } from 'react-icons/tb'\n",
      "import { TbFileDollar } from 'react-icons/tb'\n",
      "\n",
      "interface BillingProps {\n",
      "  id: string\n",
      "  children: React.ReactNode\n",
      "}\n",
      "\n",
      "export default function Billing({ id, children }: BillingProps) {\n",
      "  const billingTabs = [\n",
      "    {\n",
      "      name: 'Time Spent',\n",
      "      href: `/case-profile/${id}/billing/hours`,\n",
      "      displayChildren: true,\n",
      "      icon: <TbClockDollar className=\"-ml-0.5 mr-2 h-5 w-5\" />,\n",
      "    },\n",
      "    {\n",
      "      name: 'Reimbursement',\n",
      "      href: `/case-profile/${id}/billing/reimbursement`,\n",
      "      displayChildren: true,\n",
      "      icon: <TbFileDollar className=\"-ml-0.5 mr-2 h-5 w-5\" />,\n",
      "    },\n",
      "  ]\n",
      "\n",
      "  return (\n",
      "    <div>\n",
      "      <div className=\"max-w-5xl mb-5 bg-white mx-auto shadow-lg rounded-lg dark:bg-gray-950 p-4 dark:text-gray-50\">\n",
      "        <div className=\"flex items-stretch justify-between\">\n",
      "          <Tabs tabs={billingTabs}>\n",
      "            <BillingData />\n",
      "          </Tabs>\n",
      "        </div>\n",
      "        <div className=\"mt-2 ring-offset-white focus-visible:outline-none focus-visible:ring-2 focus-visible:ring-slate-950 focus-visible:ring-offset-2 dark:ring-offset-slate-950 dark:focus-visible:ring-slate-300\">\n",
      "          {children}\n",
      "        </div>\n",
      "      </div>\n",
      "    </div>\n",
      "  )\n",
      "}\n",
      "```\n"
     ]
    }
   ],
   "source": [
    "print(result)"
   ]
  },
  {
   "cell_type": "code",
   "execution_count": 14,
   "metadata": {},
   "outputs": [
    {
     "name": "stdout",
     "output_type": "stream",
     "text": [
      "File templates/billing/billing-data.tsx\n",
      " has been generated.\n",
      "File templates/billing/billing.tsx\n",
      " has been generated.\n"
     ]
    }
   ],
   "source": [
    "files = result.split(\"Filename: \")\n",
    "for file in files:\n",
    "    if not file:\n",
    "        continue\n",
    "    filename, code = file.split(\"Code:\")\n",
    "    output_file = filename.strip().replace(\"templates/\",\"output/\")\n",
    "    # add directory if not exists\n",
    "    os.makedirs(os.path.dirname(output_file), exist_ok=True)\n",
    "    with open(output_file, \"w\") as f:\n",
    "        f.write(code)\n",
    "        print(f\"File {filename} has been generated.\")"
   ]
  },
  {
   "cell_type": "code",
   "execution_count": 10,
   "metadata": {},
   "outputs": [],
   "source": [
    "# recursively loop all the files under templates folder\n",
    "# and read their content\n",
    "file = \"output/app/(protected)/departments/add-department.tsx\"\n",
    "with open(file, \"r\") as f:\n",
    "    code = f.read()\n",
    "code = \"Filename:\" + file +\"\\n\\n\" + code"
   ]
  },
  {
   "cell_type": "code",
   "execution_count": null,
   "metadata": {},
   "outputs": [],
   "source": [
    "# create the prompt with all the templates\n",
    "boilerplate = \"\"\n",
    "for index, template in enumerate(templates):\n",
    "    boilerplate += f\"Start of Boilerplate #{index+1}: {template}\\n\"\n",
    "    boilerplate += f\"{templates[template]}\\n\"\n",
    "    boilerplate += f\"End of Boilerplate #{index+1}: {template}\\n\\n\""
   ]
  },
  {
   "cell_type": "code",
   "execution_count": 11,
   "metadata": {},
   "outputs": [],
   "source": [
    "from langchain.prompts import ChatPromptTemplate\n",
    "\n",
    "template = \"\"\"Fix the warnings that are present in the given source code below.\n",
    "\n",
    "-----------------\n",
    "{code}\n",
    "-----------------\n",
    "\n",
    "web:lint: 5:20  Warning: 'Division' is defined but never used.  no-unused-vars\n",
    "web:lint: 5:30  Warning: 'Nature' is defined but never used.  no-unused-vars\n",
    "web:lint: 5:38  Warning: 'SystemCodes' is defined but never used.  no-unused-vars\n",
    "web:lint: 5:51  Warning: 'User' is defined but never used.  no-unused-vars\n",
    "web:lint: 25:10  Warning: 'DatePicker' is defined but never used.  no-unused-vars\n",
    "web:lint: 48:3  Warning: 'natures' is defined but never used.  no-unused-vars\n",
    "web:lint: 49:3  Warning: 'statuses' is defined but never used.  no-unused-vars\n",
    "web:lint: 50:3  Warning: 'priorities' is defined but never used.  no-unused-vars\n",
    "web:lint: 52:3  Warning: 'divisions' is defined but never used.  no-unused-vars\n",
    "web:lint: 53:3  Warning: 'users' is defined but never used.  no-unused-vars\n",
    "\n",
    "\n",
    "Respond immediately in the following format:\n",
    "Filename: [filename]\n",
    "Code: [code] \n",
    "\"\"\"\n",
    "prompt = ChatPromptTemplate.from_template(template)"
   ]
  },
  {
   "cell_type": "code",
   "execution_count": 2,
   "metadata": {},
   "outputs": [],
   "source": [
    "from langchain_openai import ChatOpenAI\n",
    "\n",
    "openai_chat_model = ChatOpenAI(model=\"gpt-3.5-turbo\")"
   ]
  },
  {
   "cell_type": "code",
   "execution_count": 3,
   "metadata": {},
   "outputs": [],
   "source": [
    "from langchain_core.output_parsers import StrOutputParser\n",
    "\n",
    "chain = prompt | openai_chat_model | StrOutputParser()"
   ]
  },
  {
   "cell_type": "code",
   "execution_count": 6,
   "metadata": {},
   "outputs": [],
   "source": [
    "result = chain.invoke({})"
   ]
  },
  {
   "cell_type": "code",
   "execution_count": 7,
   "metadata": {},
   "outputs": [
    {
     "name": "stdout",
     "output_type": "stream",
     "text": [
      "Filename: AddDepartment.tsx\n",
      "Code: \n",
      "```tsx\n",
      "{' \\n//start of the code below, include use client\\n\\nimport { Card, CardContent } from \\'@ui/core/shadcn/card\\'\\nimport { Category, Division, Nature, SystemCodes, User } from \\'@db/prisma\\'\\nimport {\\n  Form,\\n  FormControl,\\n  FormField,\\n  FormItem,\\n  FormLabel,\\n  FormMessage,\\n} from \\'@ui/core/shadcn/form\\'\\nimport {\\n  Sheet,\\n  SheetContent,\\n  SheetHeader,\\n  SheetTitle,\\n  SheetTrigger,\\n} from \\'@ui/core/shadcn/sheet\\'\\n\\nimport { AiOutlineFileAdd } from \\'react-icons/ai\\'\\nimport { Button } from \\'@ui/core/shadcn/button\\'\\nimport { Combobox } from \\'@ui/core/shadcn/combobox\\'\\nimport { DatePicker } from \\'@ui/core/shadcn/datepicker\\'\\nimport { Input } from \\'@ui/core/shadcn/input\\'\\nimport React from \\'react\\'\\nimport { getErrorMessage } from \\'@common/lib/handle-error\\'\\nimport { toast } from \\'sonner\\'\\nimport { useForm } from \\'react-hook-form\\'\\nimport { useRouter } from \\'next/navigation\\'\\nimport { z } from \\'zod\\'\\nimport { zodResolver } from \\'@hookform/resolvers/zod\\'\\n\\nconst formSchema = z.object({\\n  name: z.string().min(1, { message: \\'Department name is required\\' }),\\n  type: z.string().min(1, { message: \\'Department type is required\\' }),\\n  category: z.string().min(1, { message: \\'Category is required\\' }),\\n  description: z.string().min(1, { message: \\'Description is required\\' }),\\n  isRequired: z.boolean(),\\n})\\n\\ninterface AddDepartmentProps {\\n  categories: Category[]\\n}\\n\\nexport default function AddDepartment({\\n  categories,\\n}: AddDepartmentProps) {\\n  const router = useRouter()\\n  const [sheetOpen, setSheetOpen] = React.useState(false)\\n\\n  const form = useForm<z.infer<typeof formSchema>>({\\n    resolver: zodResolver(formSchema),\\n    defaultValues: {\\n      name: \\'\\',\\n      type: \\'\\',\\n      category: \\'\\',\\n      description: \\'\\',\\n      isRequired: false,\\n    },\\n  })\\n\\n  function onSubmit(values: z.infer<typeof formSchema>) {\\n    toast.promise(\\n      fetch(\\'/api/department\\', {\\n        method: \\'POST\\',\\n        body: JSON.stringify(values),\\n        headers: {\\n          \\'Content-Type\\': \\'application/json\\',\\n        },\\n      }),\\n      {\\n        loading: \\'Department is being added...\\',\\n        success: \\'Department added!\\',\\n        error: (err) => getErrorMessage(err),\\n      },\\n    )\\n    router.refresh()\\n    setSheetOpen(false)\\n    form.reset()\\n  }\\n\\n  return (\\n    <Sheet open={sheetOpen} onOpenChange={setSheetOpen}>\\n      <SheetTrigger asChild>\\n        <Button\\n          aria-label=\"Add department\"\\n          variant=\"outline\"\\n          size=\"sm\"\\n          className=\"ml-auto h-8 lg:flex\"\\n        >\\n          <AiOutlineFileAdd className=\"mr-2 size-4\" aria-hidden=\"true\" />\\n          Add Department\\n        </Button>\\n      </SheetTrigger>\\n      <SheetContent\\n        className=\"overflow-y-scroll\"\\n        onOpenAutoFocus={(e) => e.preventDefault()}\\n      >\\n        <SheetHeader>\\n          <SheetTitle>Add New Department</SheetTitle>\\n        </SheetHeader>\\n        <Card className=\"mt-2\">\\n          <CardContent>\\n            <Form {...form}>\\n              <form\\n                onSubmit={form.handleSubmit(onSubmit)}\\n                className=\"space-y-4\"\\n              >\\n                <FormField\\n                  control={form.control}\\n                  name=\"name\"\\n                  render={({ field }) => (\\n                    <FormItem>\\n                      <FormLabel>Department Name</FormLabel>\\n                      <FormControl>\\n                        <Input placeholder=\"Enter department name\" {...field} />\\n                      </FormControl>\\n                      <FormMessage />\\n                    </FormItem>\\n                  )}\\n                />\\n                <FormField\\n                  control={form.control}\\n                  name=\"type\"\\n                  render={({ field }) => (\\n                    <FormItem>\\n                      <FormLabel>Department Type</FormLabel>\\n                      <FormControl>\\n                        <Input placeholder=\"Enter department type\" {...field} />\\n                      </FormControl>\\n                      <FormMessage />\\n                    </FormItem>\\n                  )}\\n                />\\n                <FormField\\n                  control={form.control}\\n                  name=\"category\"\\n                  render={({ field }) => (\\n                    <FormItem>\\n                      <FormLabel>Category</FormLabel>\\n                      <FormControl>\\n                        <Combobox\\n                          id=\"categoryId\"\\n                          data={categories.map((category) => ({\\n                            value: category.id,\\n                            label: category.name,\\n                          }))}\\n                          value={field.value}\\n                          onValueChange={field.onChange}\\n                        />\\n                      </FormControl>\\n                      <FormMessage />\\n                    </FormItem>\\n                  )}\\n                />\\n                <FormField\\n                  control={form.control}\\n                  name=\"description\"\\n                  render={({ field }) => (\\n                    <FormItem>\\n                      <FormLabel>Description</FormLabel>\\n                      <FormControl>\\n                        <Input placeholder=\"Enter department description\" {...field} />\\n                      </FormControl>\\n                      <FormMessage />\\n                    </FormItem>\\n                  )}\\n                />\\n                <FormField\\n                  control={form.control}\\n                  name=\"isRequired\"\\n                  render={({ field }) => (\\n                    <FormItem>\\n                      <FormLabel>Is Required</FormLabel>\\n                      <FormControl>\\n                        <Input type=\"checkbox\" {...field} />\\n                      </FormControl>\\n                      <FormMessage />\\n                    </FormItem>\\n                  )}\\n                />\\n                <Button variant={\\'outline\\'} type=\"submit\">\\n                  Save\\n                </Button>\\n              </form>\\n            </Form>\\n          </CardContent>\\n        </Card>\\n      </SheetContent>\\n    </Sheet>\\n  )\\n}\\n\\n'}\n",
      "```\n"
     ]
    }
   ],
   "source": [
    "print(result)"
   ]
  },
  {
   "cell_type": "code",
   "execution_count": 15,
   "metadata": {},
   "outputs": [
    {
     "name": "stdout",
     "output_type": "stream",
     "text": [
      "File output/app/(protected)/departments/add-department.tsx\n",
      " has been generated.\n"
     ]
    }
   ],
   "source": [
    "files = result.split(\"Filename: \")\n",
    "for file in files:\n",
    "    if not file:\n",
    "        continue\n",
    "    filename, code = file.split(\"Code:\")\n",
    "    output_file = filename.strip().replace(\"templates/\",\"output/\")\n",
    "    # add directory if not exists\n",
    "    #os.makedirs(os.path.dirname(output_file), exist_ok=True)\n",
    "    with open(output_file, \"w\") as f:\n",
    "        f.write(code)\n",
    "        print(f\"File {filename} has been generated.\")"
   ]
  },
  {
   "cell_type": "code",
   "execution_count": 12,
   "metadata": {},
   "outputs": [
    {
     "name": "stdout",
     "output_type": "stream",
     "text": [
      "{'./src/app/(protected)/admin/users/table.tsx': [\"39:5  Warning: 'isError' is assigned a value but never used.  no-unused-vars\", \"41:5  Warning: 'error' is assigned a value but never used.  no-unused-vars\", \"180:18  Warning: 'row' is defined but never used.  no-unused-vars\", \"196:18  Warning: 'row' is defined but never used.  no-unused-vars\", \"198:33  Warning: 'startEditTransition' is assigned a value but never used.  no-unused-vars\", \"199:35  Warning: 'startDeleteTransition' is assigned a value but never used.  no-unused-vars\"], './src/app/(protected)/ai/ensemble/compose/page.tsx': [\"3:8  Warning: 'MiniMapNode' is defined but never used.  no-unused-vars\", \"4:8  Warning: 'ShapeNode' is defined but never used.  no-unused-vars\", \"5:3  Warning: 'ShapeNodeData' is defined but never used.  no-unused-vars\", \"7:8  Warning: 'Sidebar' is defined but never used.  no-unused-vars\", \"10:17  Warning: 'useCallback' is defined but never used.  no-unused-vars\", \"14:3  Warning: 'MiniMap' is defined but never used.  no-unused-vars\", \"17:3  Warning: 'useNodesState' is defined but never used.  no-unused-vars\", \"18:3  Warning: 'useEdgesState' is defined but never used.  no-unused-vars\", \"19:3  Warning: 'addEdge' is defined but never used.  no-unused-vars\", \"20:8  Warning: 'Node' is defined but never used.  no-unused-vars\", \"21:3  Warning: 'NodeTypes' is defined but never used.  no-unused-vars\", \"27:3  Warning: 'Panel' is defined but never used.  no-unused-vars\"], './src/app/(protected)/ai/ensemble/search/ensemble-table.tsx': [\"116:31  Warning: 'row' is defined but never used.  no-unused-vars\", \"117:35  Warning: 'startDeleteTransition' is assigned a value but never used.  no-unused-vars\", \"118:35  Warning: 'startUpdateTransition' is assigned a value but never used.  no-unused-vars\", \"119:35  Warning: 'startReviewTransition' is assigned a value but never used.  no-unused-vars\"], './src/app/(protected)/ai/prompt-library/search/prompts-table.tsx': [\"126:31  Warning: 'row' is defined but never used.  no-unused-vars\", \"127:35  Warning: 'startDeleteTransition' is assigned a value but never used.  no-unused-vars\", \"128:35  Warning: 'startUpdateTransition' is assigned a value but never used.  no-unused-vars\", \"129:35  Warning: 'startReviewTransition' is assigned a value but never used.  no-unused-vars\"], './src/app/(protected)/case-profile/[id]/actions/case-actions-table.tsx': [\"14:10  Warning: 'IoMdStopwatch' is defined but never used.  no-unused-vars\", \"15:10  Warning: 'TbClockExclamation' is defined but never used.  no-unused-vars\", \"16:10  Warning: 'HiOutlineCheckCircle' is defined but never used.  no-unused-vars\", \"136:31  Warning: 'row' is defined but never used.  no-unused-vars\", \"137:35  Warning: 'startDeleteTransition' is assigned a value but never used.  no-unused-vars\", \"138:35  Warning: 'startUpdateTransition' is assigned a value but never used.  no-unused-vars\"], './src/app/(protected)/case-profile/[id]/billing/hours/hours-table.tsx': [\"83:31  Warning: 'row' is defined but never used.  no-unused-vars\", \"84:35  Warning: 'startDeleteTransition' is assigned a value but never used.  no-unused-vars\", \"85:35  Warning: 'startUpdateTransition' is assigned a value but never used.  no-unused-vars\"], './src/app/(protected)/case-profile/[id]/billing/reimbursement/reimbursement-table.tsx': [\"83:31  Warning: 'row' is defined but never used.  no-unused-vars\", \"84:35  Warning: 'startDeleteTransition' is assigned a value but never used.  no-unused-vars\", \"85:35  Warning: 'startUpdateTransition' is assigned a value but never used.  no-unused-vars\"], './src/app/(protected)/case-profile/[id]/case-profile.tsx': ['18:30  Warning: NEXT_PUBLIC_URL is not listed as a dependency in turbo.json  turbo/no-undeclared-env-vars'], './src/app/(protected)/case-profile/[id]/documents/case-documents-table.tsx': [\"88:31  Warning: 'row' is defined but never used.  no-unused-vars\", \"89:35  Warning: 'startDeleteTransition' is assigned a value but never used.  no-unused-vars\", \"90:35  Warning: 'startUpdateTransition' is assigned a value but never used.  no-unused-vars\", \"91:35  Warning: 'startReviewTransition' is assigned a value but never used.  no-unused-vars\"], './src/app/(protected)/case-search/add-tab.tsx': [\"28:17  Warning: 'tabs' is defined but never used.  no-unused-vars\", \"38:10  Warning: 'selectedAction' is assigned a value but never used.  no-unused-vars\", \"60:9  Warning: 'handleSelectedActionChange' is assigned a value but never used.  no-unused-vars\", \"159:6  Warning: 'CaseStatus' is defined but never used.  no-unused-vars\", \"160:3  Warning: 'OPEN' is defined but never used.  no-unused-vars\", \"161:3  Warning: 'CLOSED' is defined but never used.  no-unused-vars\", \"164:6  Warning: 'CaseCategory' is defined but never used.  no-unused-vars\", \"165:3  Warning: 'CRIMINAL' is defined but never used.  no-unused-vars\", \"166:3  Warning: 'CIVIL' is defined but never used.  no-unused-vars\", \"167:3  Warning: 'ADMINISTRATIVE' is defined but never used.  no-unused-vars\", \"168:3  Warning: 'FAMILY' is defined but never used.  no-unused-vars\", \"171:6  Warning: 'Divisions' is defined but never used.  no-unused-vars\", \"172:3  Warning: 'MANILA' is defined but never used.  no-unused-vars\", \"173:3  Warning: 'CEBU' is defined but never used.  no-unused-vars\", \"174:3  Warning: 'DAVAO' is defined but never used.  no-unused-vars\", \"175:3  Warning: 'CDO' is defined but never used.  no-unused-vars\", \"178:6  Warning: 'CaseNature' is defined but never used.  no-unused-vars\", \"179:3  Warning: 'DEFAMATION' is defined but never used.  no-unused-vars\", \"180:3  Warning: 'ESTAFA' is defined but never used.  no-unused-vars\", \"181:3  Warning: 'FORCIBLE_ENTRY' is defined but never used.  no-unused-vars\", \"182:3  Warning: 'GRAVE_COERCION' is defined but never used.  no-unused-vars\", \"183:3  Warning: 'GRAVE_THREATS' is defined but never used.  no-unused-vars\", \"184:3  Warning: 'MALICIOUS_MISCHIEF' is defined but never used.  no-unused-vars\"], './src/app/(protected)/case-search/case-search-table.tsx': [\"22:57  Warning: 'Case' is defined but never used.  no-unused-vars\", \"181:18  Warning: 'isDeletePending' is assigned a value but never used.  no-unused-vars\", \"181:35  Warning: 'startDeleteTransition' is assigned a value but never used.  no-unused-vars\", \"182:18  Warning: 'isUpdatePending' is assigned a value but never used.  no-unused-vars\", \"182:35  Warning: 'startUpdateTransition' is assigned a value but never used.  no-unused-vars\"], './src/app/(protected)/case-search/page.tsx': ['29:8  Warning: NEXT_PUBLIC_URL is not listed as a dependency in turbo.json  turbo/no-undeclared-env-vars', '39:8  Warning: NEXT_PUBLIC_URL is not listed as a dependency in turbo.json  turbo/no-undeclared-env-vars', '49:8  Warning: NEXT_PUBLIC_URL is not listed as a dependency in turbo.json  turbo/no-undeclared-env-vars', '59:8  Warning: NEXT_PUBLIC_URL is not listed as a dependency in turbo.json  turbo/no-undeclared-env-vars', '69:8  Warning: NEXT_PUBLIC_URL is not listed as a dependency in turbo.json  turbo/no-undeclared-env-vars', '78:40  Warning: NEXT_PUBLIC_URL is not listed as a dependency in turbo.json  turbo/no-undeclared-env-vars'], './src/app/(protected)/clients/page.tsx': ['103:27  Warning: Using `<img>` could result in slower LCP and higher bandwidth. Consider using `<Image />` from `next/image` to automatically optimize images. This may incur additional usage or cost from your provider. See: https://nextjs.org/docs/messages/no-img-element  @next/next/no-img-element'], './src/app/(protected)/departments/add-department.tsx': [\"4:20  Warning: 'Division' is defined but never used.  no-unused-vars\", \"4:30  Warning: 'Nature' is defined but never used.  no-unused-vars\", \"4:38  Warning: 'SystemCodes' is defined but never used.  no-unused-vars\", \"4:51  Warning: 'User' is defined but never used.  no-unused-vars\", \"24:10  Warning: 'DatePicker' is defined but never used.  no-unused-vars\"], './src/app/(protected)/departments/department-search-table.tsx': [\"18:8  Warning: 'PriorityBadge' is defined but never used.  no-unused-vars\", \"23:10  Warning: 'Department' is defined but never used.  no-unused-vars\", \"75:39  Warning: 'CategoryBadge' is not defined.  no-undef\", \"112:18  Warning: 'isDeletePending' is assigned a value but never used.  no-unused-vars\", \"112:35  Warning: 'startDeleteTransition' is assigned a value but never used.  no-unused-vars\", \"113:18  Warning: 'isUpdatePending' is assigned a value but never used.  no-unused-vars\", \"113:35  Warning: 'startUpdateTransition' is assigned a value but never used.  no-unused-vars\"], './src/app/(protected)/departments/page.tsx': ['30:8  Warning: NEXT_PUBLIC_URL is not listed as a dependency in turbo.json  turbo/no-undeclared-env-vars'], './src/app/api/(case)/case/route.ts': [\"81:29  Warning: 'sort' is assigned a value but never used.  no-unused-vars\", \"81:35  Warning: 'operator' is assigned a value but never used.  no-unused-vars\"], './src/app/api/department/route.ts': [\"72:29  Warning: 'sort' is assigned a value but never used.  no-unused-vars\", \"72:35  Warning: 'operator' is assigned a value but never used.  no-unused-vars\"], './src/common/components/ai/prompt-library/add-prompt.tsx': [\"29:10  Warning: 'selctedTask' is assigned a value but never used.  no-unused-vars\", \"30:10  Warning: 'selctedStatus' is assigned a value but never used.  no-unused-vars\", \"32:10  Warning: 'tags' is assigned a value but never used.  no-unused-vars\", \"32:16  Warning: 'setTags' is assigned a value but never used.  no-unused-vars\", \"42:9  Warning: 'handleSelectedStatusChange' is assigned a value but never used.  no-unused-vars\", \"46:32  Warning: 'value' is defined but never used.  no-unused-vars\"], './src/common/components/app-navbar/floating-sidebar.tsx': [\"7:20  Warning: 'open' is defined but never used.  no-unused-vars\"], './src/common/components/case-profile/add-action.tsx': [\"16:8  Warning: 'LabelCheckbox' is defined but never used.  no-unused-vars\", \"47:9  Warning: 'handleCheckedChange' is assigned a value but never used.  no-unused-vars\", \"47:32  Warning: 'value' is defined but never used.  no-unused-vars\"], './src/common/components/case-profile/add-incoming-document.tsx': [\"14:18  Warning: 'value' is defined but never used.  no-unused-vars\"], './src/common/components/case-profile/add-outgoing-document.tsx': [\"16:18  Warning: 'value' is defined but never used.  no-unused-vars\"], './src/common/components/case-profile/case-header.tsx': ['12:8  Warning: NEXT_PUBLIC_URL is not listed as a dependency in turbo.json  turbo/no-undeclared-env-vars', '22:8  Warning: NEXT_PUBLIC_URL is not listed as a dependency in turbo.json  turbo/no-undeclared-env-vars', '32:8  Warning: NEXT_PUBLIC_URL is not listed as a dependency in turbo.json  turbo/no-undeclared-env-vars', '42:8  Warning: NEXT_PUBLIC_URL is not listed as a dependency in turbo.json  turbo/no-undeclared-env-vars', '52:8  Warning: NEXT_PUBLIC_URL is not listed as a dependency in turbo.json  turbo/no-undeclared-env-vars', '61:40  Warning: NEXT_PUBLIC_URL is not listed as a dependency in turbo.json  turbo/no-undeclared-env-vars'], './src/common/components/lookup/values/panel.tsx': [\"8:34  Warning: 'this' is defined but never used.  no-unused-vars\"], './src/common/components/react-flow/custom/decision-node.tsx': [\"2:10  Warning: 'Handle' is defined but never used.  no-unused-vars\", \"2:18  Warning: 'Position' is defined but never used.  no-unused-vars\"], './src/common/components/react-flow/toolbar/index.tsx': [\"14:20  Warning: 'color' is defined but never used.  no-unused-vars\"], './src/common/components/table-actions.tsx': [\"7:3  Warning: 'DropdownMenuShortcut' is defined but never used.  no-unused-vars\"], './src/common/components/table-floating-bar-content.tsx': [\"29:39  Warning: 'row' is defined but never used.  no-unused-vars\"], './src/common/models/lookup-category.tsx': [\"21:15  Warning: 'record' is defined but never used.  no-unused-vars\", \"22:15  Warning: 'name' is defined but never used.  no-unused-vars\"], './src/common/models/lookup-value.ts': [\"36:15  Warning: 'record' is defined but never used.  no-unused-vars\", \"37:15  Warning: 'zodObject' is defined but never used.  no-unused-vars\"], './src/common/providers/lookup.tsx': [\"6:25  Warning: 'item' is defined but never used.  no-unused-vars\", \"8:19  Warning: 'categories' is defined but never used.  no-unused-vars\", \"10:18  Warning: 'isLoading' is defined but never used.  no-unused-vars\"], './src/common/utils/metadata.ts': ['3:17  Warning: NEXT_PUBLIC_PROD_URL is not listed as a dependency in turbo.json  turbo/no-undeclared-env-vars'], './src/server/actions/ai/prompt-search-actions.ts': [\"3:30  Warning: 'noStore' is defined but never used.  no-unused-vars\", \"3:39  Warning: 'revalidatePath' is defined but never used.  no-unused-vars\", \"5:10  Warning: 'Case' is defined but never used.  no-unused-vars\", \"7:10  Warning: 'getErrorMessage' is defined but never used.  no-unused-vars\", \"8:10  Warning: 'prisma' is defined but never used.  no-unused-vars\", \"11:6  Warning: 'FILTERS' is defined but never used.  no-unused-vars\", \"11:6  Warning: 'FILTERS' is defined but never used.  no-unused-vars\", \"12:3  Warning: 'IS' is defined but never used.  no-unused-vars\", \"13:3  Warning: 'IS_NOT' is defined but never used.  no-unused-vars\", \"14:3  Warning: 'CONTAINS' is defined but never used.  no-unused-vars\", \"15:3  Warning: 'DOES_NOT_CONTAIN' is defined but never used.  no-unused-vars\", \"18:34  Warning: 'input' is defined but never used.  no-unused-vars\"], './src/types/entity.ts': [\"5:10  Warning: 'other' is defined but never used.  no-unused-vars\"]}\n"
     ]
    }
   ],
   "source": [
    "# recursively loop all the files under templates folder\n",
    "# and read their content\n",
    "import re\n",
    "file = \"debug/lint.txt\"\n",
    "with open(file, \"r\") as f:\n",
    "    lints = f.read()\n",
    "# split into \"web:lint\"\n",
    "lints = lints.split(\"\\n\")\n",
    "warnings = {}\n",
    "# check if there are any warnings for the files generated\n",
    "if len(lints) > 1:\n",
    "    for lint in lints:        \n",
    "        # if this refers to new file, get the filename\n",
    "        lint = lint.strip()\n",
    "        # lint = re.sub(r'\\x1b\\[.*?m', '', lint)        \n",
    "        if lint.startswith(\"./\"):\n",
    "            filename = lint\n",
    "        # if blank, disregard\n",
    "        elif not lint.strip():\n",
    "            filename = \"\"\n",
    "            continue\n",
    "        elif filename:\n",
    "            # add the rows to the warnings\n",
    "            # if dict does not exist, add it else, append to array of warnings\n",
    "            if filename not in warnings:\n",
    "                warnings[filename] = [lint]\n",
    "            else:\n",
    "                warnings[filename] += [lint]\n",
    "    print(warnings)\n",
    "\n",
    "\n",
    "        \n",
    "        \n"
   ]
  },
  {
   "cell_type": "code",
   "execution_count": 6,
   "metadata": {},
   "outputs": [
    {
     "data": {
      "text/plain": [
       "{}"
      ]
     },
     "execution_count": 6,
     "metadata": {},
     "output_type": "execute_result"
    }
   ],
   "source": [
    "warnings"
   ]
  },
  {
   "cell_type": "code",
   "execution_count": 30,
   "metadata": {},
   "outputs": [],
   "source": [
    "from langchain.prompts import ChatPromptTemplate\n",
    "\n",
    "template = \"\"\"You are a systems analyst. Your task is to ask for the following information:\n",
    "1. model: [model or entity name]\n",
    "2. fields: [fields of the model]\n",
    "3. output: [folder location of the project]\n",
    "\n",
    "below are the information you know\n",
    "\n",
    "model: 'department'\n",
    "fields: 'name, categorty, description, isRequired'\n",
    "output: '/src/out'\n",
    "\n",
    "If all information is complete, respond with \"Requirements complete.\"\n",
    "Ask one question with missing information in order.\n",
    "\"\"\"\n",
    "prompt = ChatPromptTemplate.from_template(template)"
   ]
  },
  {
   "cell_type": "code",
   "execution_count": 32,
   "metadata": {},
   "outputs": [],
   "source": [
    "from langchain_core.output_parsers import StrOutputParser\n",
    "\n",
    "chain = prompt | openai_chat_model | StrOutputParser()"
   ]
  },
  {
   "cell_type": "code",
   "execution_count": 33,
   "metadata": {},
   "outputs": [
    {
     "name": "stdout",
     "output_type": "stream",
     "text": [
      "What is the folder location for the project output?\n"
     ]
    }
   ],
   "source": [
    "result = chain.invoke({})\n",
    "print(result)"
   ]
  },
  {
   "cell_type": "code",
   "execution_count": 39,
   "metadata": {},
   "outputs": [],
   "source": [
    "import os\n",
    "from langchain.prompts import ChatPromptTemplate\n",
    "from langchain_community.chat_models import ChatOpenAI\n",
    "from langchain_core.output_parsers import StrOutputParser\n",
    "\n",
    "def generate_code(requirements):\n",
    "    print(\"Generating code...\")\n",
    "    templates = {}\n",
    "    for root, dirs, files in os.walk(\"templates/app/(protected)/cases\"):\n",
    "        for file in files:\n",
    "            with open(os.path.join(root, file), \"r\") as f:\n",
    "                templates[os.path.join(root, file)] = f.read()\n",
    "\n",
    "    # create the prompt with all the templates\n",
    "    boilerplate = \"\"\n",
    "    for index, template in enumerate(templates):\n",
    "        boilerplate += f\"Start of Boilerplate #{index+1}: {template}\\n\"\n",
    "        boilerplate += f\"{templates[template]}\\n\"\n",
    "        boilerplate += f\"End of Boilerplate #{index+1}: {template}\\n\\n\"\n",
    "\n",
    "        \n",
    "    template = \"\"\"Generate {count} source code using next.js and prisma \n",
    "    based on the given {count} boilerplate below. \n",
    "    Follow the boilerplate markers to generate the multiple code. \n",
    "\n",
    "    -----------------\n",
    "    {boilerplate}\n",
    "    -----------------\n",
    "\n",
    "    Replace the table name case to {model}.\n",
    "\n",
    "    Replace the fields of the boilerplate with to include the new fields below:\n",
    "      {fields_newline} \n",
    "\n",
    "\n",
    "    Respond immediately in the following format:\n",
    "    Filename: [filename]\n",
    "    Code: [code] \n",
    "    \"\"\"\n",
    "    prompt = ChatPromptTemplate.from_template(template)\n",
    "\n",
    "    openai_chat_model = ChatOpenAI(model=\"gpt-3.5-turbo\")\n",
    "    chain = prompt | openai_chat_model | StrOutputParser()\n",
    "    print(f\"Invoking model with {len(templates)} templates...\")\n",
    "    result = chain.invoke({\"boilerplate\": {boilerplate}, \n",
    "                           \"count\": len(templates),\n",
    "                           \"model\": requirements[\"model\"],\n",
    "                           \"fields_newline\": \"\\n\".join(requirements[\"fields\"])})\n",
    "    print(\"Saving to file...\")\n",
    "    # save boilerplate to file\n",
    "    with open(\"debug/boilerplate.txt\", \"w\") as f:\n",
    "        f.write(boilerplate)\n",
    "    files = result.split(\"Filename: \")\n",
    "    for file in files:\n",
    "        if not file:\n",
    "            continue\n",
    "        filename, code = file.split(\"Code:\")\n",
    "        output_file = filename.strip().replace(\"templates/\",\"output/\")\n",
    "        # add directory if not exists\n",
    "        os.makedirs(os.path.dirname(output_file), exist_ok=True)\n",
    "        with open(output_file, \"w\") as f:\n",
    "            f.write(code)\n",
    "            print(f\"File {filename} has been generated.\")"
   ]
  },
  {
   "cell_type": "code",
   "execution_count": 41,
   "metadata": {},
   "outputs": [
    {
     "name": "stdout",
     "output_type": "stream",
     "text": [
      "Generating code...\n",
      "Invoking model with 3 templates...\n",
      "Saving to file...\n",
      "File templates/app/(protected)/users/user-page.tsx\n",
      " has been generated.\n",
      "File templates/app/(protected)/users/user-search-table.tsx\n",
      " has been generated.\n",
      "File templates/app/(protected)/users/add-user.tsx\n",
      " has been generated.\n"
     ]
    }
   ],
   "source": [
    "requirements = {\n",
    "    \"model\": \"User\",\n",
    "    \"fields\": [\"id\", \"name\", \"email\", \"password\", \"created_at\", \"updated_at\"]\n",
    "}\n",
    "generate_code(requirements)"
   ]
  }
 ],
 "metadata": {
  "kernelspec": {
   "display_name": "Python 3",
   "language": "python",
   "name": "python3"
  },
  "language_info": {
   "codemirror_mode": {
    "name": "ipython",
    "version": 3
   },
   "file_extension": ".py",
   "mimetype": "text/x-python",
   "name": "python",
   "nbconvert_exporter": "python",
   "pygments_lexer": "ipython3",
   "version": "3.11.9"
  }
 },
 "nbformat": 4,
 "nbformat_minor": 2
}
